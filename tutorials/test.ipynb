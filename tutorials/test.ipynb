{
 "cells": [
  {
   "cell_type": "code",
   "execution_count": 5,
   "metadata": {},
   "outputs": [
    {
     "name": "stdout",
     "output_type": "stream",
     "text": [
      "score 0.9333333333333333\n",
      "score 0.8666666666666667\n",
      "score 0.9285714285714286\n",
      "score 1.0\n",
      "score 0.8571428571428571\n"
     ]
    }
   ],
   "source": [
    "from qmlab.preprocessing import parse_biomed_data_to_ndarray\n",
    "from sklearn.model_selection import StratifiedKFold\n",
    "from sklearn.svm import SVC\n",
    "\n",
    "random_state = 12345\n",
    "\n",
    "X, y = parse_biomed_data_to_ndarray(\"sobar_new\")\n",
    "skf = StratifiedKFold(n_splits=5, random_state=random_state, shuffle=True)\n",
    "clf = SVC(kernel=\"linear\", random_state=random_state)\n",
    "\n",
    "for train_idx, test_idx in skf.split(X, y):\n",
    "    X_train = X[train_idx, :]\n",
    "    X_test = X[test_idx,: ]\n",
    "    y_train = y[train_idx]\n",
    "    y_test = y[test_idx]\n",
    "\n",
    "    clf.fit(X_train, y_train)\n",
    "\n",
    "    acc_score = clf.score(X_test, y_test)\n",
    "\n",
    "    print(\"score\", acc_score)\n",
    "    \n"
   ]
  },
  {
   "cell_type": "code",
   "execution_count": 9,
   "metadata": {},
   "outputs": [
    {
     "name": "stdout",
     "output_type": "stream",
     "text": [
      "score 1.0\n",
      "balanced_score 1.0\n",
      "score 0.8\n",
      "balanced_score 0.75\n",
      "score 0.9285714285714286\n",
      "balanced_score 0.9545454545454546\n",
      "score 0.9285714285714286\n",
      "balanced_score 0.9545454545454546\n",
      "score 0.8571428571428571\n",
      "balanced_score 0.825\n"
     ]
    }
   ],
   "source": [
    "from qmlab.preprocessing import parse_biomed_data_to_ndarray\n",
    "from sklearn.model_selection import StratifiedKFold\n",
    "from sklearn.svm import SVC\n",
    "from sklearn import metrics\n",
    "\n",
    "random_state = 12345\n",
    "\n",
    "X, y = parse_biomed_data_to_ndarray(\"sobar_new\")\n",
    "skf = StratifiedKFold(n_splits=5, random_state=random_state, shuffle=True)\n",
    "clf = SVC(kernel=\"rbf\", random_state=random_state)\n",
    "\n",
    "for train_idx, test_idx in skf.split(X, y):\n",
    "    X_train = X[train_idx, :]\n",
    "    X_test = X[test_idx, :]\n",
    "    y_train = y[train_idx]\n",
    "    y_test = y[test_idx]\n",
    "\n",
    "    clf.fit(X_train, y_train)\n",
    "\n",
    "    y_pred = clf.predict(X_test)\n",
    "    acc_score = clf.score(X_test, y_test)\n",
    "    bal_score = metrics.balanced_accuracy_score(y_pred, y_test)\n",
    "\n",
    "    print(\"score\", acc_score)\n",
    "    print(\"balanced_score\", bal_score)"
   ]
  }
 ],
 "metadata": {
  "kernelspec": {
   "display_name": "qmlab",
   "language": "python",
   "name": "python3"
  },
  "language_info": {
   "codemirror_mode": {
    "name": "ipython",
    "version": 3
   },
   "file_extension": ".py",
   "mimetype": "text/x-python",
   "name": "python",
   "nbconvert_exporter": "python",
   "pygments_lexer": "ipython3",
   "version": "3.13.0"
  }
 },
 "nbformat": 4,
 "nbformat_minor": 2
}
