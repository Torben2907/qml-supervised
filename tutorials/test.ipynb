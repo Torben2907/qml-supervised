{
 "cells": [
  {
   "cell_type": "code",
   "execution_count": 1,
   "metadata": {},
   "outputs": [
    {
     "name": "stdout",
     "output_type": "stream",
     "text": [
      "score 0.8666666666666667\n",
      "score 0.8\n",
      "score 1.0\n",
      "score 0.9285714285714286\n",
      "score 0.8571428571428571\n"
     ]
    }
   ],
   "source": [
    "from qmlab.preprocessing import parse_biomed_data_to_ndarray, reduce_feature_dim\n",
    "from sklearn.model_selection import StratifiedKFold\n",
    "from sklearn.svm import SVC\n",
    "\n",
    "random_state = 12345\n",
    "\n",
    "X, y, feature_names = parse_biomed_data_to_ndarray(\"sobar_new\")\n",
    "X = reduce_feature_dim(X, output_dimension=3)\n",
    "skf = StratifiedKFold(n_splits=5, random_state=random_state, shuffle=True)\n",
    "clf = SVC(kernel=\"linear\", random_state=random_state)\n",
    "\n",
    "for train_idx, test_idx in skf.split(X, y):\n",
    "    X_train = X[train_idx, :]\n",
    "    X_test = X[test_idx,: ]\n",
    "    y_train = y[train_idx]\n",
    "    y_test = y[test_idx]\n",
    "\n",
    "    clf.fit(X_train, y_train)\n",
    "\n",
    "    acc_score = clf.score(X_test, y_test)\n",
    "\n",
    "    print(\"score\", acc_score)\n",
    "    \n"
   ]
  },
  {
   "cell_type": "code",
   "execution_count": null,
   "metadata": {},
   "outputs": [
    {
     "name": "stdout",
     "output_type": "stream",
     "text": [
      "score: 0.6363636363636364\n",
      "score: 0.5909090909090909\n",
      "score: 0.6363636363636364\n",
      "score: 0.5909090909090909\n",
      "score: 0.7272727272727273\n",
      "score: 0.7272727272727273\n",
      "score: 0.6818181818181818\n",
      "score: 0.6363636363636364\n",
      "score: 0.6363636363636364\n",
      "score: 0.7727272727272727\n"
     ]
    }
   ],
   "source": [
    "from qmlab.kernel import FidelityQuantumKernel\n",
    "from qiskit.circuit.library import ZZFeatureMap\n",
    "from sklearn.model_selection import ShuffleSplit\n",
    "from qmlab.preprocessing import reduce_feature_dim\n",
    "\n",
    "X, y, _ = parse_biomed_data_to_ndarray(\"sobar_new\")\n",
    "qfm = ZZFeatureMap(feature_dimension=X.shape[1], reps=2)\n",
    "quantum_kernel = FidelityQuantumKernel(feature_map=qfm)\n",
    "qsvm = SVC(kernel=\"precomputed\")\n",
    "rs = ShuffleSplit(n_splits=10, test_size=0.3, random_state=random_state)\n",
    "\n",
    "for train_idx, test_idx in rs.split(X):\n",
    "    X_train = X[train_idx, :]\n",
    "    y_train = y[train_idx]\n",
    "    X_test = X[test_idx, :]\n",
    "    y_test = y[test_idx]\n",
    "\n",
    "    kernel_train = quantum_kernel.evaluate_kernel(X_train)\n",
    "    kernel_test = quantum_kernel.evaluate_kernel(X_test, X_train)\n",
    "    qsvm.fit(kernel_train, y_train)\n",
    "    score = qsvm.score(kernel_test, y_test)\n",
    "\n",
    "    print(\"score:\", score)"
   ]
  }
 ],
 "metadata": {
  "kernelspec": {
   "display_name": "qmlab",
   "language": "python",
   "name": "python3"
  },
  "language_info": {
   "codemirror_mode": {
    "name": "ipython",
    "version": 3
   },
   "file_extension": ".py",
   "mimetype": "text/x-python",
   "name": "python",
   "nbconvert_exporter": "python",
   "pygments_lexer": "ipython3",
   "version": "3.13.0"
  }
 },
 "nbformat": 4,
 "nbformat_minor": 2
}
