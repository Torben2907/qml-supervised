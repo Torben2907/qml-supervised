{
 "cells": [
  {
   "cell_type": "code",
   "execution_count": 2,
   "metadata": {},
   "outputs": [
    {
     "name": "stdout",
     "output_type": "stream",
     "text": [
      "0.8057142857142857\n"
     ]
    }
   ],
   "source": [
    "from qmlab.preprocessing import parse_biomed_data_to_ndarray, reduce_feature_dim\n",
    "from sklearn.model_selection import StratifiedKFold\n",
    "from sklearn.svm import SVC\n",
    "\n",
    "random_state = 12345\n",
    "\n",
    "X, y, feature_names = parse_biomed_data_to_ndarray(\"sobar_new\")\n",
    "X = X[:, :4]\n",
    "skf = StratifiedKFold(n_splits=5, random_state=random_state, shuffle=True)\n",
    "clf = SVC(kernel=\"linear\", random_state=random_state)\n",
    "\n",
    "scores = []\n",
    "for train_idx, test_idx in skf.split(X, y):\n",
    "    X_train = X[train_idx, :]\n",
    "    X_test = X[test_idx,: ]\n",
    "    y_train = y[train_idx]\n",
    "    y_test = y[test_idx]\n",
    "\n",
    "    clf.fit(X_train, y_train)\n",
    "\n",
    "    acc_score = clf.score(X_test, y_test)\n",
    "    scores.append(acc_score)\n",
    "\n",
    "avg_acc_score = sum(scores) / len(scores)\n",
    "print(avg_acc_score)"
   ]
  },
  {
   "cell_type": "code",
   "execution_count": 3,
   "metadata": {},
   "outputs": [],
   "source": [
    "from qiskit.circuit.library import ZZFeatureMap\n",
    "from sklearn.model_selection import ShuffleSplit\n",
    "from qmlab.preprocessing import scale_to_specified_range\n",
    "from qiskit_machine_learning.kernels import FidelityQuantumKernel\n",
    "\n",
    "X, y, _ = parse_biomed_data_to_ndarray(\"sobar_new\")\n",
    "X = X[:, :2]\n",
    "X = scale_to_specified_range(X, range=(-1.0, 1.0))\n",
    "qfm = ZZFeatureMap(feature_dimension=X.shape[1], reps=2)\n",
    "quantum_kernel = FidelityQuantumKernel(feature_map=qfm)\n",
    "qsvm = SVC(kernel=\"precomputed\", random_state=random_state)\n",
    "rs = ShuffleSplit(n_splits=10, test_size=0.3, random_state=random_state)\n",
    "\n",
    "scores = []\n",
    "for train_idx, test_idx in rs.split(X):\n",
    "    X_train = X[train_idx, :]\n",
    "    y_train = y[train_idx]\n",
    "    X_test = X[test_idx, :]\n",
    "    y_test = y[test_idx]\n",
    "\n",
    "    kernel_train = quantum_kernel.evaluate(X_train)\n",
    "    kernel_test = quantum_kernel.evaluate(X_test, X_train)\n",
    "    qsvm.fit(kernel_train, y_train)\n",
    "    score = qsvm.score(kernel_test, y_test)\n",
    "\n",
    "    scores.append(score)\n",
    "\n",
    "avg_score = sum(scores) / len(scores)"
   ]
  },
  {
   "cell_type": "code",
   "execution_count": 4,
   "metadata": {},
   "outputs": [
    {
     "name": "stdout",
     "output_type": "stream",
     "text": [
      "0.7\n"
     ]
    }
   ],
   "source": [
    "print(avg_score)"
   ]
  }
 ],
 "metadata": {
  "kernelspec": {
   "display_name": "qmlab",
   "language": "python",
   "name": "python3"
  },
  "language_info": {
   "codemirror_mode": {
    "name": "ipython",
    "version": 3
   },
   "file_extension": ".py",
   "mimetype": "text/x-python",
   "name": "python",
   "nbconvert_exporter": "python",
   "pygments_lexer": "ipython3",
   "version": "3.13.0"
  }
 },
 "nbformat": 4,
 "nbformat_minor": 2
}
