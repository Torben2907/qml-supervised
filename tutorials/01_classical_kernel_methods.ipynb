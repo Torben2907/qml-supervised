{
 "cells": [
  {
   "cell_type": "markdown",
   "metadata": {},
   "source": [
    "# Classical Kernel Methods\n",
    "$\\blacktriangleright$ This is the **1st** part of a notebook series documenting the work of the thesis and demonstrating the functionality of the <code>QMLab</code> package.\n",
    "\n",
    "[Part 2](./02_quantum_advantage.ipynb)  &nbsp;  &nbsp; \n",
    "[Part 3](./training_quantum_kernels.ipynb)"
   ]
  },
  {
   "cell_type": "markdown",
   "metadata": {},
   "source": [
    "## Overview \n",
    "\n",
    "1. [Introduction](#1.-Introduction)\n",
    "2. [Datasets](#2.-Datasets)\n",
    "3. [Kernels](#3.-Kernels)"
   ]
  },
  {
   "cell_type": "markdown",
   "metadata": {},
   "source": [
    "# 1. Introduction\n",
    "\n",
    "Support vector machines are a supervised learning algorithm. \n",
    "That means they can be used for classification and regression tasks.\n",
    "\n",
    "Since we will work with biomedical data where the task is to predict a disease our task will be binary classification, \n",
    "e.g. we classify a person as positive with the label $+1$ and as negative with the label $-1$.\n",
    "\n",
    "In other words we have been given data of the form \n",
    "$\\left\\{\\left(\\mathbf{x}^{(i)}, y^{(i)}\\right)\\right\\}_{i=1}^m$ where $\\mathbf{x}^{(i)} \\in \\mathcal{X} \\subset \\mathbb{R}^d$ and \n",
    "$y^{(i)} \\in \\mathcal{Y} = \\left\\{-1, +1 \\right\\}$. \n",
    "\n",
    "<div class=\"alert alert-block alert-info\">\n",
    "<b>Info: </b> m denotes the number of examples we have in our complete dataset.\n",
    "</div>\n",
    "\n",
    "An SVM then proposes a model of the form \n",
    "\n",
    "$$\n",
    "f(\\mathbf{x}) = \\mathbf{\\theta}^\\top \\mathbf{x} + b \\tag{1.1}\n",
    "$$\n",
    "\n",
    "called the **hyperplane**, which can separate data linearly in the dimension of the feature space $\\mathbb{R}^d$.\n",
    "\n",
    "The representatives of each class that have the closest distance to the hyperplane are the **support vectors**.\n",
    "\n",
    "The distance between the hyperplane and the support vectors is the **margin**.\n",
    "\n",
    "&rarr; We're trying to find the hyperplane that separates the data while maximizing the margin.\n",
    "\n",
    "The resulting optimization problem has an equivalent dual formulation: \n",
    "$$\n",
    "f(\\mathbf{x}) = \\sum_{i=1}^m \\alpha_i y_i \\left(\\mathbf{x_i}^\\top \\mathbf{x}\\right) + b. \\tag{1.2}\n",
    "$$\n",
    "\n",
    "The true power of support vector machines lays in this formulation as we are able to replace the inner product of $\\mathbb{R}^d$ by the inner product of a higher dimensional Hilbert space $\\mathcal{F}$: \n",
    "\n",
    "$$\n",
    "f(\\mathbf{x}) = \\sum_{i=1}^m \\alpha_i y_i \\left(\\phi(\\mathbf{x_i})^\\top \\phi(\\mathbf{x})\\right)+ b. \\tag{1.3}\n",
    "$$\n",
    "\n",
    "This method is called the **kernel trick** and we define \n",
    "\n",
    "$$\n",
    "\\kappa(\\mathbf{x},\\mathbf{x}_i) \\equiv \\phi(\\mathbf{x_i})^\\top \\phi(\\mathbf{x}). \\tag{1.4}\n",
    "$$\n",
    "\n",
    "The kernel trick allows us to map the data into a higher dimensional feature space before computing the dot product and therefore find non-linear decision boundaries with a linear model."
   ]
  },
  {
   "cell_type": "markdown",
   "metadata": {},
   "source": [
    "Let's try out how this works in practice, we start with some imports:"
   ]
  },
  {
   "cell_type": "code",
   "execution_count": 1,
   "metadata": {},
   "outputs": [],
   "source": [
    "import numpy as np\n",
    "\n",
    "from qmlab.preprocessing import parse_biomed_data_to_ndarray, downsample_biomed_data \n",
    "from qmlab.plotting import labels_pie_chart, set_plot_style\n",
    "from qmlab.utils import run_cross_validation\n",
    "\n",
    "from sklearn.svm import SVC\n",
    "\n",
    "%matplotlib inline\n",
    "set_plot_style(\"dark_background\")"
   ]
  },
  {
   "cell_type": "markdown",
   "metadata": {},
   "source": [
    "Some of the algorithms introduce randomness. To make sure that our results stay the same in between runs we define a fixed seed:"
   ]
  },
  {
   "cell_type": "code",
   "execution_count": 2,
   "metadata": {},
   "outputs": [],
   "source": [
    "random_state = 42 \n",
    "np.random.seed(random_state)"
   ]
  },
  {
   "cell_type": "markdown",
   "metadata": {},
   "source": [
    "***"
   ]
  },
  {
   "cell_type": "markdown",
   "metadata": {},
   "source": [
    "## 2. Datasets"
   ]
  },
  {
   "cell_type": "markdown",
   "metadata": {},
   "source": [
    "All of the data we're working with originate from a biomedical background: \n",
    "\n",
    "- They are small sized, contain a large number of features and are heavily imbalanced. \n",
    "- The latter simply means that one class has way more representatives then the other class. \n",
    "- The class that has less members is the positive class."
   ]
  },
  {
   "cell_type": "markdown",
   "metadata": {},
   "source": [
    "The large amount of features will become a problem when dealing with quantum kernels later on, since most of the embeddings that have been shown to give a quantum advantage map the number of features directly to the number of qubits and it is hard to simulate more than $8$ qubits.\n",
    "\n",
    "Therefore we start our analysis with the Haberman dataset that captures the survival status of \n",
    "breast cancer patients and has only $3$ features. \n",
    "\n",
    "The features are\n",
    "- the age of the patient at time of surgery,\n",
    "- the year of the time of surgery,\n",
    "- the number of axillary lymph nodes of the patient."
   ]
  },
  {
   "cell_type": "markdown",
   "metadata": {},
   "source": [
    "We keep track of the features in a $m \\times d$-dimensional real-valued matrix $\\mathcal{X}$, i.e. an <code>np.ndarray</code> of shape `(m, d)`. \n",
    "\n",
    "The labels will be a $m$-dimensional column vector $\\mathcal{Y}$, i.e. a <code>np.ndarray</code> of shape `(m,)`."
   ]
  },
  {
   "cell_type": "markdown",
   "metadata": {},
   "source": [
    "We load them via a simple function call. \n",
    "\n",
    "The method <code>parse_biomed_data_to_ndarray</code> will return \n",
    "$\\mathcal{X}$ and $\\mathcal{Y}$ as well as a <code>List[str]</code>-object \n",
    "containing all of the feature names of the dataset:"
   ]
  },
  {
   "cell_type": "code",
   "execution_count": 3,
   "metadata": {},
   "outputs": [],
   "source": [
    "X, y, feature_names = parse_biomed_data_to_ndarray(\"haberman_new\", return_X_y=True)"
   ]
  },
  {
   "cell_type": "code",
   "execution_count": 4,
   "metadata": {},
   "outputs": [
    {
     "data": {
      "image/png": "[encoded data removed]",
      "text/plain": [
       "<Figure size 600x600 with 1 Axes>"
      ]
     },
     "metadata": {},
     "output_type": "display_data"
    }
   ],
   "source": [
    "labels_pie_chart(y, title=\"Class Imbalance of SOBAR\");"
   ]
  },
  {
   "cell_type": "markdown",
   "metadata": {},
   "source": [
    "We can see that only 30 percent of the number of patients are tested positive with Cervical Cancer, while \n",
    "the rest is tested negative."
   ]
  },
  {
   "cell_type": "markdown",
   "metadata": {},
   "source": [
    "We define our support vector machine by calling the <code>SVC</code>-class from scikit-learn:"
   ]
  },
  {
   "cell_type": "code",
   "execution_count": 5,
   "metadata": {},
   "outputs": [],
   "source": [
    "svc = SVC(kernel=\"linear\", random_state=random_state, probability=True)"
   ]
  },
  {
   "cell_type": "markdown",
   "metadata": {},
   "source": [
    "As you can see we're only using a linear kernel for now."
   ]
  },
  {
   "cell_type": "code",
   "execution_count": 6,
   "metadata": {},
   "outputs": [
    {
     "data": {
      "text/plain": [
       "{'accuracy': 0.7287179487179486,\n",
       " 'f1': 0.037037037037037035,\n",
       " 'auc': 0.6934001670843775,\n",
       " 'mcc': 0.004389426988951641}"
      ]
     },
     "execution_count": 6,
     "metadata": {},
     "output_type": "execute_result"
    }
   ],
   "source": [
    "run_cross_validation(svc, X, y, num_splits=12, random_state=random_state)"
   ]
  },
  {
   "cell_type": "markdown",
   "metadata": {},
   "source": [
    "To deal with the imbalance of the data it is common to use resampling techniques like \n",
    "**Downsampling** or **Upsampling** to create the same number of representants of each class. \n"
   ]
  },
  {
   "cell_type": "markdown",
   "metadata": {},
   "source": [
    "Both resampling methods come with certain advantages as well as caveats:\n",
    "\n",
    "- Downsampling reduces the number of training examples substantially, which is an advantage regarding performance of the classifier but also comes with a loss of information due to the high imbalance to begin with.\n",
    "- Upsampling will extend the number of training examples by a lot"
   ]
  },
  {
   "cell_type": "markdown",
   "metadata": {},
   "source": [
    "We will investigate both Down- and Upsampling on our data and compare both methods to the imbalanced data."
   ]
  },
  {
   "cell_type": "code",
   "execution_count": 10,
   "metadata": {},
   "outputs": [],
   "source": [
    "X_down, y_down = downsample_biomed_data(X, y, random_state=random_state)"
   ]
  },
  {
   "cell_type": "code",
   "execution_count": 8,
   "metadata": {},
   "outputs": [
    {
     "data": {
      "image/png": "[encoded data removed]",
      "text/plain": [
       "<Figure size 600x600 with 1 Axes>"
      ]
     },
     "metadata": {},
     "output_type": "display_data"
    }
   ],
   "source": [
    "labels_pie_chart(y_down, title=\"Balanced Data after Downsampling SOBAR\");"
   ]
  },
  {
   "cell_type": "code",
   "execution_count": 9,
   "metadata": {},
   "outputs": [
    {
     "data": {
      "text/plain": [
       "{'accuracy': 0.6043560606060605,\n",
       " 'f1': 0.48590954827836386,\n",
       " 'auc': 0.6542049632352941,\n",
       " 'mcc': 0.2426802343205424}"
      ]
     },
     "execution_count": 9,
     "metadata": {},
     "output_type": "execute_result"
    }
   ],
   "source": [
    "run_cross_validation(svc, X_down, y_down, num_splits=5, random_state=random_state)"
   ]
  }
 ],
 "metadata": {
  "kernelspec": {
   "display_name": "qmlab",
   "language": "python",
   "name": "python3"
  },
  "language_info": {
   "codemirror_mode": {
    "name": "ipython",
    "version": 3
   },
   "file_extension": ".py",
   "mimetype": "text/x-python",
   "name": "python",
   "nbconvert_exporter": "python",
   "pygments_lexer": "ipython3",
   "version": "3.13.0"
  }
 },
 "nbformat": 4,
 "nbformat_minor": 2
}
