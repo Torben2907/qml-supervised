{
 "cells": [
  {
   "cell_type": "markdown",
   "metadata": {},
   "source": [
    "# QSVC (into the details)\n",
    "\n",
    "$\\blacktriangleright$ This is part **III** of a notebook series demonstrating the functionality of the <code>QMLab</code>-Package. \n",
    "\n",
    "[Click here to get to Part 1](./classical_learning.ipynb) &nbsp; or &nbsp; \n",
    "[Part 3](./training_quantum_kernels.ipynb).\n",
    "\n",
    "Now let's look into the details of what happened in [Part 2](02_quantum_advantage.ipynb).\n",
    "\n",
    "The entire progress of computing the gram matrix can be outsourced to a quantum computer. \n",
    "\n",
    "The rest of the support vector algorithm stays exactly the same - resulting in a hybrid algorithm.\n",
    "\n",
    "It's called a **Q**uantum **S**upport **V**ector **C**lassifier - <code>QSVC</code> for short.\n",
    "\n",
    "First we needed an **data embedding** that maps our data vectors into a Hilbert space $\\mathcal{H}$, the space where state vectors $\\Ket{\\psi}$ exist."
   ]
  },
  {
   "cell_type": "markdown",
   "metadata": {},
   "source": [
    "An data embedding is a feature map of the form  \n",
    "$$ \n",
    "\\mathbf{x} \\in \\mathbb{R}^d \\longrightarrow \\Ket{\\psi(\\mathbf{x})} \\in \\mathcal{H} \\tag{1}\n",
    "$$\n",
    "where we obtain the state vector by applying a parameterized unitary to the ground state of a quantum circuit, i.e. \n",
    "$$\n",
    "\\mathcal{U}(\\mathbf{x}) \\Ket{0} = \\Ket{\\psi(\\mathbf{x})}.\\tag{2} $$"
   ]
  },
  {
   "cell_type": "markdown",
   "metadata": {},
   "source": [
    "We can obtain two different quantum states by parameterizing them with different data vectors and measure their fidelity:\n",
    "$$\n",
    "\\hat{K}_{ij} = \\left| \\Braket{\\psi(\\boldsymbol{x}_j) | \\psi(\\boldsymbol{x}_i)}\\right|^2 \\quad i, j \\in \\{1, \\ldots, n\\} \n",
    "\\tag{3}\n",
    "$$\n",
    "where $n$ is number of training examples.\n",
    "\n",
    "We prepare the state \n",
    "$$\n",
    "\\mathcal{U}^\\dagger(\\boldsymbol{x}_j) \\; \\mathcal{U}(\\boldsymbol{x}_i) \\Ket{0} \n",
    "$$\n",
    "\n",
    "and measuring the probability of measuring a bitstring only consisting of zeros, i.e. \n",
    "$$\n",
    "\\hat{K}_{ij} = P(measure\\Ket{0})\n",
    "= \\left| \\Braket{0 | \\mathcal{U}^\\dagger(\\mathbf{x}_j) \\, \\mathcal{U}(\\boldsymbol{x}_i) | 0 } \\right|^2 = \\left| \\Braket{\\psi(\\mathbf{x}_j) | \\psi(\\mathbf{x}_i)}\\right|^2 \n",
    "        .\n",
    "$$"
   ]
  },
  {
   "cell_type": "code",
   "execution_count": 13,
   "metadata": {},
   "outputs": [],
   "source": [
    "import numpy as np\n",
    "from sklearn import metrics\n",
    "from numpy.typing import NDArray\n",
    "import matplotlib.pyplot as plt\n",
    "from sklearn.model_selection import train_test_split\n",
    "from qmlab.kernel import FidelityQuantumKernel\n",
    "from qmlab.preprocessing import (\n",
    "    parse_biomed_data_to_ndarray,\n",
    "    parse_biomed_data_to_df,\n",
    "    scale_to_specified_interval,\n",
    ")\n",
    "from qmlab.plotting import (\n",
    "    set_plot_style,\n",
    "    plot_kernel_heatmap,\n",
    ")\n",
    "import plotly.express as px\n",
    "\n",
    "random_state = 12345\n",
    "np.random.seed(random_state)\n",
    "%matplotlib inline\n",
    "plt.rcParams[\"figure.dpi\"] = 150\n",
    "set_plot_style(\"dark_background\")"
   ]
  },
  {
   "cell_type": "code",
   "execution_count": 14,
   "metadata": {},
   "outputs": [],
   "source": [
    "X, y, _ = parse_biomed_data_to_ndarray(\"haberman_new\")\n",
    "X = scale_to_specified_interval(X, interval=(-np.pi / 2, np.pi / 2))\n",
    "X_train, X_test, y_train, y_test = train_test_split(X, y, train_size=0.8)"
   ]
  },
  {
   "cell_type": "code",
   "execution_count": 28,
   "metadata": {},
   "outputs": [
    {
     "data": {
      "application/vnd.plotly.v1+json": {
       "config": {
        "plotlyServerURL": "https://plot.ly"
       },
       "data": [
        {
         "hovertemplate": "V2=%{x}<br>V3=%{y}<br>V4=%{z}<br>V1=%{marker.color}<extra></extra>",
         "legendgroup": "",
         "marker": {
          "color": [
           1,
           1,
           1,
           1,
           1,
           1,
           1,
           1,
           1,
           1,
           1,
           1,
           1,
           1,
           1,
           1,
           1,
           1,
           1,
           1,
           1,
           1,
           1,
           1,
           1,
           1,
           1,
           1,
           1,
           1,
           1,
           1,
           1,
           1,
           1,
           1,
           1,
           1,
           1,
           1,
           1,
           1,
           1,
           1,
           1,
           1,
           1,
           1,
           1,
           1,
           1,
           1,
           1,
           1,
           1,
           1,
           1,
           1,
           1,
           1,
           1,
           1,
           1,
           1,
           1,
           1,
           1,
           1,
           1,
           1,
           1,
           1,
           1,
           1,
           1,
           1,
           1,
           1,
           1,
           1,
           1,
           -1,
           -1,
           -1,
           -1,
           -1,
           -1,
           -1,
           -1,
           -1,
           -1,
           -1,
           -1,
           -1,
           -1,
           -1,
           -1,
           -1,
           -1,
           -1,
           -1,
           -1,
           -1,
           -1,
           -1,
           -1,
           -1,
           -1,
           -1,
           -1,
           -1,
           -1,
           -1,
           -1,
           -1,
           -1,
           -1,
           -1,
           -1,
           -1,
           -1,
           -1,
           -1,
           -1,
           -1,
           -1,
           -1,
           -1,
           -1,
           -1,
           -1,
           -1,
           -1,
           -1,
           -1,
           -1,
           -1,
           -1,
           -1,
           -1,
           -1,
           -1,
           -1,
           -1,
           -1,
           -1,
           -1,
           -1,
           -1,
           -1,
           -1,
           -1,
           -1,
           -1,
           -1,
           -1,
           -1,
           -1,
           -1,
           -1,
           -1,
           -1,
           -1,
           -1,
           -1,
           -1,
           -1,
           -1,
           -1,
           -1,
           -1,
           -1,
           -1,
           -1,
           -1,
           -1,
           -1,
           -1,
           -1,
           -1,
           -1,
           -1,
           -1,
           -1,
           -1,
           -1,
           -1,
           -1,
           -1,
           -1,
           -1,
           -1,
           -1,
           -1,
           -1,
           -1,
           -1,
           -1,
           -1,
           -1,
           -1,
           -1,
           -1,
           -1,
           -1,
           -1,
           -1,
           -1,
           -1,
           -1,
           -1,
           -1,
           -1,
           -1,
           -1,
           -1,
           -1,
           -1,
           -1,
           -1,
           -1,
           -1,
           -1,
           -1,
           -1,
           -1,
           -1,
           -1,
           -1,
           -1,
           -1,
           -1,
           -1,
           -1,
           -1,
           -1,
           -1,
           -1,
           -1,
           -1,
           -1,
           -1,
           -1,
           -1,
           -1,
           -1,
           -1,
           -1,
           -1,
           -1,
           -1,
           -1,
           -1,
           -1,
           -1,
           -1,
           -1,
           -1,
           -1,
           -1,
           -1,
           -1,
           -1,
           -1,
           -1,
           -1,
           -1,
           -1,
           -1,
           -1,
           -1,
           -1,
           -1,
           -1,
           -1,
           -1,
           -1,
           -1,
           -1,
           -1,
           -1,
           -1,
           -1,
           -1,
           -1,
           -1,
           -1,
           -1,
           -1,
           -1,
           -1,
           -1,
           -1,
           -1,
           -1,
           -1,
           -1,
           -1,
           -1,
           -1,
           -1,
           -1,
           -1,
           -1,
           -1,
           -1
          ],
          "coloraxis": "coloraxis",
          "symbol": "circle"
         },
         "mode": "markers",
         "name": "",
         "scene": "scene",
         "showlegend": false,
         "type": "scatter3d",
         "x": [
          34,
          34,
          38,
          39,
          41,
          41,
          41,
          42,
          42,
          43,
          43,
          43,
          43,
          44,
          44,
          44,
          45,
          45,
          45,
          46,
          46,
          46,
          46,
          47,
          47,
          47,
          48,
          48,
          48,
          49,
          49,
          50,
          50,
          51,
          51,
          52,
          52,
          52,
          52,
          53,
          53,
          53,
          53,
          53,
          53,
          54,
          54,
          54,
          54,
          55,
          55,
          56,
          56,
          57,
          57,
          57,
          59,
          60,
          60,
          61,
          61,
          61,
          62,
          62,
          62,
          63,
          65,
          65,
          65,
          65,
          66,
          66,
          67,
          67,
          69,
          70,
          70,
          72,
          74,
          78,
          83,
          30,
          30,
          30,
          31,
          31,
          33,
          33,
          34,
          34,
          34,
          34,
          34,
          35,
          35,
          36,
          36,
          37,
          37,
          37,
          37,
          37,
          37,
          38,
          38,
          38,
          38,
          38,
          38,
          38,
          38,
          38,
          39,
          39,
          39,
          39,
          39,
          40,
          40,
          40,
          41,
          41,
          41,
          41,
          41,
          41,
          41,
          42,
          42,
          42,
          42,
          42,
          42,
          42,
          43,
          43,
          43,
          43,
          43,
          43,
          43,
          44,
          44,
          44,
          44,
          45,
          45,
          45,
          45,
          45,
          45,
          46,
          46,
          46,
          47,
          47,
          47,
          47,
          47,
          47,
          47,
          47,
          48,
          48,
          48,
          48,
          49,
          49,
          49,
          49,
          49,
          49,
          49,
          49,
          50,
          50,
          50,
          50,
          50,
          50,
          50,
          50,
          50,
          50,
          51,
          51,
          51,
          51,
          52,
          52,
          52,
          52,
          52,
          52,
          52,
          52,
          52,
          52,
          53,
          53,
          53,
          53,
          53,
          54,
          54,
          54,
          54,
          54,
          54,
          54,
          54,
          54,
          55,
          55,
          55,
          55,
          55,
          55,
          55,
          55,
          56,
          56,
          56,
          56,
          56,
          57,
          57,
          57,
          57,
          57,
          57,
          57,
          57,
          58,
          58,
          58,
          58,
          58,
          58,
          58,
          59,
          59,
          59,
          59,
          59,
          59,
          59,
          60,
          60,
          60,
          60,
          61,
          61,
          61,
          61,
          61,
          61,
          62,
          62,
          62,
          62,
          63,
          63,
          63,
          63,
          63,
          63,
          63,
          64,
          64,
          64,
          64,
          64,
          65,
          65,
          65,
          65,
          65,
          65,
          66,
          66,
          66,
          67,
          67,
          67,
          67,
          68,
          68,
          69,
          69,
          69,
          70,
          70,
          70,
          70,
          70,
          71,
          72,
          72,
          72,
          73,
          73,
          74,
          75,
          76,
          77
         ],
         "y": [
          59,
          66,
          69,
          66,
          60,
          64,
          67,
          69,
          59,
          58,
          59,
          64,
          64,
          64,
          58,
          63,
          65,
          66,
          67,
          58,
          69,
          62,
          65,
          63,
          62,
          65,
          58,
          58,
          67,
          63,
          64,
          63,
          64,
          59,
          59,
          69,
          59,
          62,
          66,
          58,
          65,
          59,
          60,
          63,
          65,
          60,
          65,
          65,
          68,
          63,
          68,
          65,
          66,
          61,
          62,
          64,
          62,
          59,
          65,
          62,
          65,
          68,
          59,
          58,
          65,
          60,
          58,
          61,
          62,
          66,
          58,
          61,
          64,
          63,
          67,
          58,
          58,
          63,
          65,
          65,
          58,
          64,
          62,
          65,
          59,
          65,
          58,
          60,
          58,
          60,
          61,
          67,
          60,
          64,
          63,
          60,
          69,
          60,
          63,
          58,
          59,
          60,
          63,
          59,
          60,
          60,
          62,
          64,
          66,
          66,
          60,
          67,
          63,
          67,
          58,
          59,
          63,
          58,
          58,
          65,
          58,
          59,
          59,
          64,
          69,
          65,
          65,
          58,
          60,
          59,
          61,
          62,
          65,
          63,
          63,
          64,
          64,
          60,
          63,
          65,
          66,
          61,
          63,
          61,
          67,
          60,
          67,
          59,
          64,
          68,
          67,
          62,
          58,
          63,
          61,
          63,
          66,
          67,
          58,
          60,
          68,
          66,
          61,
          62,
          64,
          66,
          61,
          62,
          66,
          60,
          62,
          63,
          61,
          67,
          59,
          61,
          61,
          63,
          58,
          59,
          61,
          64,
          65,
          66,
          64,
          59,
          65,
          66,
          61,
          63,
          69,
          60,
          60,
          62,
          62,
          64,
          65,
          68,
          58,
          60,
          60,
          61,
          63,
          59,
          60,
          66,
          67,
          62,
          69,
          63,
          58,
          62,
          58,
          58,
          58,
          66,
          66,
          69,
          69,
          67,
          60,
          66,
          66,
          67,
          60,
          64,
          69,
          61,
          62,
          63,
          64,
          64,
          67,
          59,
          60,
          61,
          67,
          58,
          58,
          61,
          60,
          63,
          64,
          64,
          64,
          64,
          67,
          61,
          67,
          61,
          64,
          59,
          59,
          64,
          65,
          68,
          59,
          62,
          66,
          66,
          58,
          61,
          62,
          63,
          63,
          66,
          61,
          61,
          58,
          65,
          66,
          61,
          68,
          58,
          64,
          67,
          59,
          64,
          67,
          58,
          58,
          68,
          66,
          66,
          61,
          65,
          67,
          68,
          60,
          65,
          66,
          66,
          67,
          68,
          59,
          63,
          68,
          58,
          64,
          67,
          62,
          68,
          63,
          62,
          67,
          65
         ],
         "z": [
          0,
          9,
          21,
          0,
          23,
          0,
          0,
          1,
          0,
          52,
          2,
          0,
          0,
          6,
          9,
          19,
          6,
          0,
          1,
          2,
          3,
          5,
          20,
          23,
          0,
          0,
          11,
          11,
          7,
          0,
          10,
          13,
          0,
          13,
          3,
          3,
          2,
          3,
          4,
          4,
          1,
          3,
          9,
          24,
          12,
          11,
          23,
          5,
          7,
          6,
          15,
          9,
          3,
          5,
          14,
          1,
          35,
          17,
          0,
          5,
          0,
          1,
          13,
          0,
          19,
          1,
          0,
          2,
          22,
          15,
          0,
          13,
          8,
          1,
          8,
          0,
          4,
          0,
          3,
          1,
          2,
          1,
          3,
          0,
          2,
          4,
          10,
          0,
          30,
          1,
          10,
          7,
          0,
          13,
          0,
          1,
          0,
          0,
          0,
          0,
          6,
          15,
          0,
          2,
          0,
          0,
          3,
          1,
          0,
          11,
          1,
          5,
          0,
          0,
          0,
          2,
          4,
          2,
          0,
          0,
          0,
          8,
          0,
          0,
          8,
          0,
          0,
          0,
          1,
          2,
          4,
          20,
          0,
          1,
          14,
          2,
          3,
          0,
          2,
          0,
          4,
          0,
          1,
          0,
          16,
          0,
          0,
          14,
          0,
          0,
          1,
          0,
          3,
          0,
          0,
          6,
          0,
          0,
          3,
          4,
          4,
          12,
          8,
          2,
          0,
          0,
          1,
          0,
          0,
          1,
          1,
          3,
          0,
          1,
          0,
          6,
          0,
          1,
          1,
          2,
          0,
          0,
          4,
          1,
          7,
          1,
          0,
          1,
          0,
          4,
          0,
          4,
          5,
          0,
          1,
          0,
          0,
          0,
          1,
          1,
          2,
          1,
          0,
          7,
          3,
          0,
          46,
          0,
          7,
          19,
          1,
          0,
          1,
          0,
          1,
          18,
          0,
          3,
          22,
          1,
          0,
          2,
          1,
          0,
          0,
          9,
          0,
          0,
          0,
          0,
          0,
          0,
          0,
          0,
          3,
          1,
          0,
          0,
          3,
          2,
          0,
          0,
          1,
          4,
          0,
          7,
          3,
          1,
          2,
          25,
          0,
          0,
          0,
          0,
          8,
          0,
          0,
          6,
          0,
          0,
          0,
          0,
          0,
          0,
          0,
          0,
          9,
          28,
          0,
          22,
          0,
          0,
          0,
          0,
          0,
          0,
          2,
          0,
          1,
          0,
          1,
          0,
          0,
          0,
          0,
          0,
          0,
          0,
          0,
          0,
          0,
          14,
          0,
          0,
          8,
          0,
          2,
          0,
          0,
          3,
          0,
          0,
          0,
          1,
          0,
          3
         ]
        }
       ],
       "layout": {
        "coloraxis": {
         "colorbar": {
          "title": {
           "text": "V1"
          }
         },
         "colorscale": [
          [
           0,
           "#0d0887"
          ],
          [
           0.1111111111111111,
           "#46039f"
          ],
          [
           0.2222222222222222,
           "#7201a8"
          ],
          [
           0.3333333333333333,
           "#9c179e"
          ],
          [
           0.4444444444444444,
           "#bd3786"
          ],
          [
           0.5555555555555556,
           "#d8576b"
          ],
          [
           0.6666666666666666,
           "#ed7953"
          ],
          [
           0.7777777777777778,
           "#fb9f3a"
          ],
          [
           0.8888888888888888,
           "#fdca26"
          ],
          [
           1,
           "#f0f921"
          ]
         ]
        },
        "legend": {
         "tracegroupgap": 0
        },
        "margin": {
         "b": 0,
         "l": 0,
         "r": 0,
         "t": 0
        },
        "scene": {
         "domain": {
          "x": [
           0,
           1
          ],
          "y": [
           0,
           1
          ]
         },
         "xaxis": {
          "title": {
           "text": "V2"
          }
         },
         "yaxis": {
          "title": {
           "text": "V3"
          }
         },
         "zaxis": {
          "title": {
           "text": "V4"
          }
         }
        },
        "template": {
         "data": {
          "bar": [
           {
            "error_x": {
             "color": "#f2f5fa"
            },
            "error_y": {
             "color": "#f2f5fa"
            },
            "marker": {
             "line": {
              "color": "rgb(17,17,17)",
              "width": 0.5
             },
             "pattern": {
              "fillmode": "overlay",
              "size": 10,
              "solidity": 0.2
             }
            },
            "type": "bar"
           }
          ],
          "barpolar": [
           {
            "marker": {
             "line": {
              "color": "rgb(17,17,17)",
              "width": 0.5
             },
             "pattern": {
              "fillmode": "overlay",
              "size": 10,
              "solidity": 0.2
             }
            },
            "type": "barpolar"
           }
          ],
          "carpet": [
           {
            "aaxis": {
             "endlinecolor": "#A2B1C6",
             "gridcolor": "#506784",
             "linecolor": "#506784",
             "minorgridcolor": "#506784",
             "startlinecolor": "#A2B1C6"
            },
            "baxis": {
             "endlinecolor": "#A2B1C6",
             "gridcolor": "#506784",
             "linecolor": "#506784",
             "minorgridcolor": "#506784",
             "startlinecolor": "#A2B1C6"
            },
            "type": "carpet"
           }
          ],
          "choropleth": [
           {
            "colorbar": {
             "outlinewidth": 0,
             "ticks": ""
            },
            "type": "choropleth"
           }
          ],
          "contour": [
           {
            "colorbar": {
             "outlinewidth": 0,
             "ticks": ""
            },
            "colorscale": [
             [
              0,
              "#0d0887"
             ],
             [
              0.1111111111111111,
              "#46039f"
             ],
             [
              0.2222222222222222,
              "#7201a8"
             ],
             [
              0.3333333333333333,
              "#9c179e"
             ],
             [
              0.4444444444444444,
              "#bd3786"
             ],
             [
              0.5555555555555556,
              "#d8576b"
             ],
             [
              0.6666666666666666,
              "#ed7953"
             ],
             [
              0.7777777777777778,
              "#fb9f3a"
             ],
             [
              0.8888888888888888,
              "#fdca26"
             ],
             [
              1,
              "#f0f921"
             ]
            ],
            "type": "contour"
           }
          ],
          "contourcarpet": [
           {
            "colorbar": {
             "outlinewidth": 0,
             "ticks": ""
            },
            "type": "contourcarpet"
           }
          ],
          "heatmap": [
           {
            "colorbar": {
             "outlinewidth": 0,
             "ticks": ""
            },
            "colorscale": [
             [
              0,
              "#0d0887"
             ],
             [
              0.1111111111111111,
              "#46039f"
             ],
             [
              0.2222222222222222,
              "#7201a8"
             ],
             [
              0.3333333333333333,
              "#9c179e"
             ],
             [
              0.4444444444444444,
              "#bd3786"
             ],
             [
              0.5555555555555556,
              "#d8576b"
             ],
             [
              0.6666666666666666,
              "#ed7953"
             ],
             [
              0.7777777777777778,
              "#fb9f3a"
             ],
             [
              0.8888888888888888,
              "#fdca26"
             ],
             [
              1,
              "#f0f921"
             ]
            ],
            "type": "heatmap"
           }
          ],
          "heatmapgl": [
           {
            "colorbar": {
             "outlinewidth": 0,
             "ticks": ""
            },
            "colorscale": [
             [
              0,
              "#0d0887"
             ],
             [
              0.1111111111111111,
              "#46039f"
             ],
             [
              0.2222222222222222,
              "#7201a8"
             ],
             [
              0.3333333333333333,
              "#9c179e"
             ],
             [
              0.4444444444444444,
              "#bd3786"
             ],
             [
              0.5555555555555556,
              "#d8576b"
             ],
             [
              0.6666666666666666,
              "#ed7953"
             ],
             [
              0.7777777777777778,
              "#fb9f3a"
             ],
             [
              0.8888888888888888,
              "#fdca26"
             ],
             [
              1,
              "#f0f921"
             ]
            ],
            "type": "heatmapgl"
           }
          ],
          "histogram": [
           {
            "marker": {
             "pattern": {
              "fillmode": "overlay",
              "size": 10,
              "solidity": 0.2
             }
            },
            "type": "histogram"
           }
          ],
          "histogram2d": [
           {
            "colorbar": {
             "outlinewidth": 0,
             "ticks": ""
            },
            "colorscale": [
             [
              0,
              "#0d0887"
             ],
             [
              0.1111111111111111,
              "#46039f"
             ],
             [
              0.2222222222222222,
              "#7201a8"
             ],
             [
              0.3333333333333333,
              "#9c179e"
             ],
             [
              0.4444444444444444,
              "#bd3786"
             ],
             [
              0.5555555555555556,
              "#d8576b"
             ],
             [
              0.6666666666666666,
              "#ed7953"
             ],
             [
              0.7777777777777778,
              "#fb9f3a"
             ],
             [
              0.8888888888888888,
              "#fdca26"
             ],
             [
              1,
              "#f0f921"
             ]
            ],
            "type": "histogram2d"
           }
          ],
          "histogram2dcontour": [
           {
            "colorbar": {
             "outlinewidth": 0,
             "ticks": ""
            },
            "colorscale": [
             [
              0,
              "#0d0887"
             ],
             [
              0.1111111111111111,
              "#46039f"
             ],
             [
              0.2222222222222222,
              "#7201a8"
             ],
             [
              0.3333333333333333,
              "#9c179e"
             ],
             [
              0.4444444444444444,
              "#bd3786"
             ],
             [
              0.5555555555555556,
              "#d8576b"
             ],
             [
              0.6666666666666666,
              "#ed7953"
             ],
             [
              0.7777777777777778,
              "#fb9f3a"
             ],
             [
              0.8888888888888888,
              "#fdca26"
             ],
             [
              1,
              "#f0f921"
             ]
            ],
            "type": "histogram2dcontour"
           }
          ],
          "mesh3d": [
           {
            "colorbar": {
             "outlinewidth": 0,
             "ticks": ""
            },
            "type": "mesh3d"
           }
          ],
          "parcoords": [
           {
            "line": {
             "colorbar": {
              "outlinewidth": 0,
              "ticks": ""
             }
            },
            "type": "parcoords"
           }
          ],
          "pie": [
           {
            "automargin": true,
            "type": "pie"
           }
          ],
          "scatter": [
           {
            "marker": {
             "line": {
              "color": "#283442"
             }
            },
            "type": "scatter"
           }
          ],
          "scatter3d": [
           {
            "line": {
             "colorbar": {
              "outlinewidth": 0,
              "ticks": ""
             }
            },
            "marker": {
             "colorbar": {
              "outlinewidth": 0,
              "ticks": ""
             }
            },
            "type": "scatter3d"
           }
          ],
          "scattercarpet": [
           {
            "marker": {
             "colorbar": {
              "outlinewidth": 0,
              "ticks": ""
             }
            },
            "type": "scattercarpet"
           }
          ],
          "scattergeo": [
           {
            "marker": {
             "colorbar": {
              "outlinewidth": 0,
              "ticks": ""
             }
            },
            "type": "scattergeo"
           }
          ],
          "scattergl": [
           {
            "marker": {
             "line": {
              "color": "#283442"
             }
            },
            "type": "scattergl"
           }
          ],
          "scattermapbox": [
           {
            "marker": {
             "colorbar": {
              "outlinewidth": 0,
              "ticks": ""
             }
            },
            "type": "scattermapbox"
           }
          ],
          "scatterpolar": [
           {
            "marker": {
             "colorbar": {
              "outlinewidth": 0,
              "ticks": ""
             }
            },
            "type": "scatterpolar"
           }
          ],
          "scatterpolargl": [
           {
            "marker": {
             "colorbar": {
              "outlinewidth": 0,
              "ticks": ""
             }
            },
            "type": "scatterpolargl"
           }
          ],
          "scatterternary": [
           {
            "marker": {
             "colorbar": {
              "outlinewidth": 0,
              "ticks": ""
             }
            },
            "type": "scatterternary"
           }
          ],
          "surface": [
           {
            "colorbar": {
             "outlinewidth": 0,
             "ticks": ""
            },
            "colorscale": [
             [
              0,
              "#0d0887"
             ],
             [
              0.1111111111111111,
              "#46039f"
             ],
             [
              0.2222222222222222,
              "#7201a8"
             ],
             [
              0.3333333333333333,
              "#9c179e"
             ],
             [
              0.4444444444444444,
              "#bd3786"
             ],
             [
              0.5555555555555556,
              "#d8576b"
             ],
             [
              0.6666666666666666,
              "#ed7953"
             ],
             [
              0.7777777777777778,
              "#fb9f3a"
             ],
             [
              0.8888888888888888,
              "#fdca26"
             ],
             [
              1,
              "#f0f921"
             ]
            ],
            "type": "surface"
           }
          ],
          "table": [
           {
            "cells": {
             "fill": {
              "color": "#506784"
             },
             "line": {
              "color": "rgb(17,17,17)"
             }
            },
            "header": {
             "fill": {
              "color": "#2a3f5f"
             },
             "line": {
              "color": "rgb(17,17,17)"
             }
            },
            "type": "table"
           }
          ]
         },
         "layout": {
          "annotationdefaults": {
           "arrowcolor": "#f2f5fa",
           "arrowhead": 0,
           "arrowwidth": 1
          },
          "autotypenumbers": "strict",
          "coloraxis": {
           "colorbar": {
            "outlinewidth": 0,
            "ticks": ""
           }
          },
          "colorscale": {
           "diverging": [
            [
             0,
             "#8e0152"
            ],
            [
             0.1,
             "#c51b7d"
            ],
            [
             0.2,
             "#de77ae"
            ],
            [
             0.3,
             "#f1b6da"
            ],
            [
             0.4,
             "#fde0ef"
            ],
            [
             0.5,
             "#f7f7f7"
            ],
            [
             0.6,
             "#e6f5d0"
            ],
            [
             0.7,
             "#b8e186"
            ],
            [
             0.8,
             "#7fbc41"
            ],
            [
             0.9,
             "#4d9221"
            ],
            [
             1,
             "#276419"
            ]
           ],
           "sequential": [
            [
             0,
             "#0d0887"
            ],
            [
             0.1111111111111111,
             "#46039f"
            ],
            [
             0.2222222222222222,
             "#7201a8"
            ],
            [
             0.3333333333333333,
             "#9c179e"
            ],
            [
             0.4444444444444444,
             "#bd3786"
            ],
            [
             0.5555555555555556,
             "#d8576b"
            ],
            [
             0.6666666666666666,
             "#ed7953"
            ],
            [
             0.7777777777777778,
             "#fb9f3a"
            ],
            [
             0.8888888888888888,
             "#fdca26"
            ],
            [
             1,
             "#f0f921"
            ]
           ],
           "sequentialminus": [
            [
             0,
             "#0d0887"
            ],
            [
             0.1111111111111111,
             "#46039f"
            ],
            [
             0.2222222222222222,
             "#7201a8"
            ],
            [
             0.3333333333333333,
             "#9c179e"
            ],
            [
             0.4444444444444444,
             "#bd3786"
            ],
            [
             0.5555555555555556,
             "#d8576b"
            ],
            [
             0.6666666666666666,
             "#ed7953"
            ],
            [
             0.7777777777777778,
             "#fb9f3a"
            ],
            [
             0.8888888888888888,
             "#fdca26"
            ],
            [
             1,
             "#f0f921"
            ]
           ]
          },
          "colorway": [
           "#636efa",
           "#EF553B",
           "#00cc96",
           "#ab63fa",
           "#FFA15A",
           "#19d3f3",
           "#FF6692",
           "#B6E880",
           "#FF97FF",
           "#FECB52"
          ],
          "font": {
           "color": "#f2f5fa"
          },
          "geo": {
           "bgcolor": "rgb(17,17,17)",
           "lakecolor": "rgb(17,17,17)",
           "landcolor": "rgb(17,17,17)",
           "showlakes": true,
           "showland": true,
           "subunitcolor": "#506784"
          },
          "hoverlabel": {
           "align": "left"
          },
          "hovermode": "closest",
          "mapbox": {
           "style": "dark"
          },
          "paper_bgcolor": "rgb(17,17,17)",
          "plot_bgcolor": "rgb(17,17,17)",
          "polar": {
           "angularaxis": {
            "gridcolor": "#506784",
            "linecolor": "#506784",
            "ticks": ""
           },
           "bgcolor": "rgb(17,17,17)",
           "radialaxis": {
            "gridcolor": "#506784",
            "linecolor": "#506784",
            "ticks": ""
           }
          },
          "scene": {
           "xaxis": {
            "backgroundcolor": "rgb(17,17,17)",
            "gridcolor": "#506784",
            "gridwidth": 2,
            "linecolor": "#506784",
            "showbackground": true,
            "ticks": "",
            "zerolinecolor": "#C8D4E3"
           },
           "yaxis": {
            "backgroundcolor": "rgb(17,17,17)",
            "gridcolor": "#506784",
            "gridwidth": 2,
            "linecolor": "#506784",
            "showbackground": true,
            "ticks": "",
            "zerolinecolor": "#C8D4E3"
           },
           "zaxis": {
            "backgroundcolor": "rgb(17,17,17)",
            "gridcolor": "#506784",
            "gridwidth": 2,
            "linecolor": "#506784",
            "showbackground": true,
            "ticks": "",
            "zerolinecolor": "#C8D4E3"
           }
          },
          "shapedefaults": {
           "line": {
            "color": "#f2f5fa"
           }
          },
          "sliderdefaults": {
           "bgcolor": "#C8D4E3",
           "bordercolor": "rgb(17,17,17)",
           "borderwidth": 1,
           "tickwidth": 0
          },
          "ternary": {
           "aaxis": {
            "gridcolor": "#506784",
            "linecolor": "#506784",
            "ticks": ""
           },
           "baxis": {
            "gridcolor": "#506784",
            "linecolor": "#506784",
            "ticks": ""
           },
           "bgcolor": "rgb(17,17,17)",
           "caxis": {
            "gridcolor": "#506784",
            "linecolor": "#506784",
            "ticks": ""
           }
          },
          "title": {
           "x": 0.05
          },
          "updatemenudefaults": {
           "bgcolor": "#506784",
           "borderwidth": 0
          },
          "xaxis": {
           "automargin": true,
           "gridcolor": "#283442",
           "linecolor": "#506784",
           "ticks": "",
           "title": {
            "standoff": 15
           },
           "zerolinecolor": "#283442",
           "zerolinewidth": 2
          },
          "yaxis": {
           "automargin": true,
           "gridcolor": "#283442",
           "linecolor": "#506784",
           "ticks": "",
           "title": {
            "standoff": 15
           },
           "zerolinecolor": "#283442",
           "zerolinewidth": 2
          }
         }
        }
       }
      }
     },
     "metadata": {},
     "output_type": "display_data"
    }
   ],
   "source": [
    "df = parse_biomed_data_to_df(\"haberman_new\")\n",
    "fig = px.scatter_3d(\n",
    "    df,\n",
    "    x=\"V2\",\n",
    "    y=\"V3\",\n",
    "    z=\"V4\",\n",
    "    color=\"V1\",\n",
    "    size_max=18,\n",
    "    template=\"plotly_dark\",\n",
    "    color_discrete_map=\"seaborn\"\n",
    ")\n",
    "fig.update_layout(margin=dict(l=0, r=0, b=0, t=0))\n",
    "fig.show()"
   ]
  },
  {
   "cell_type": "code",
   "execution_count": 31,
   "metadata": {},
   "outputs": [
    {
     "data": {
      "image/png": "[encoded data removed]",
      "text/plain": [
       "<Figure size 600x600 with 1 Axes>"
      ]
     },
     "metadata": {},
     "output_type": "display_data"
    }
   ],
   "source": [
    "from sklearn.svm import SVC\n",
    "import pennylane as qml\n",
    "\n",
    "num_features = X_train.shape[1]\n",
    "dev = qml.device(\"default.qubit\", wires=num_features)\n",
    "\n",
    "@qml.qnode(dev)\n",
    "def angle(x: NDArray) -> qml.QNode:\n",
    "    qml.AngleEmbedding(x, rotation=\"Z\", wires=range(num_features))\n",
    "    return qml.state()\n",
    "\n",
    "fig, ax = qml.draw_mpl(\n",
    "    angle, style=\"sketch_dark\", show_all_wires=True, level=None, decimals=1\n",
    ")(X_train[0])"
   ]
  },
  {
   "cell_type": "code",
   "execution_count": 29,
   "metadata": {},
   "outputs": [
    {
     "data": {
      "image/png": "[encoded data removed]",
      "text/plain": [
       "<Figure size 1950x600 with 1 Axes>"
      ]
     },
     "metadata": {},
     "output_type": "display_data"
    }
   ],
   "source": [
    "@qml.qnode(dev)\n",
    "def iqp(x: NDArray) -> qml.QNode:\n",
    "    qml.IQPEmbedding(x, n_repeats=2, wires=range(num_features))\n",
    "    return qml.state()\n",
    "\n",
    "fig, ax = qml.draw_mpl(\n",
    "    iqp, style=\"sketch_dark\", show_all_wires=True, level=None, decimals=1\n",
    ")(X_train[0])"
   ]
  },
  {
   "cell_type": "markdown",
   "metadata": {},
   "source": [
    "Let's use the <code>FidelityQuantumKernel</code>-class to obtain the kernel matrix:"
   ]
  },
  {
   "cell_type": "code",
   "execution_count": 17,
   "metadata": {},
   "outputs": [],
   "source": [
    "quantum_kernel = FidelityQuantumKernel(data_embedding=\"IQP\", jit=True, reps=2)\n",
    "\n",
    "quantum_kernel.initialize_params(feature_dimension=X_train.shape[1])\n",
    "kernel_train = quantum_kernel.evaluate(X_train, X_train)\n",
    "kernel_test = quantum_kernel.evaluate(X_test, X_train)"
   ]
  },
  {
   "cell_type": "code",
   "execution_count": 18,
   "metadata": {},
   "outputs": [
    {
     "data": {
      "image/png": "[encoded data removed]",
      "text/plain": [
       "<Figure size 1500x750 with 2 Axes>"
      ]
     },
     "metadata": {},
     "output_type": "display_data"
    }
   ],
   "source": [
    "plot_kernel_heatmap(kernel_train, kernel_test)"
   ]
  },
  {
   "cell_type": "code",
   "execution_count": 19,
   "metadata": {},
   "outputs": [
    {
     "name": "stdout",
     "output_type": "stream",
     "text": [
      "Precomputed kernel classification score: 1.0\n"
     ]
    }
   ],
   "source": [
    "precomputed_kernel_svc = SVC(kernel=\"precomputed\", random_state=random_state)\n",
    "precomputed_kernel_svc.fit(kernel_train, y_train)\n",
    "precomputed_quantum_kernel_score = precomputed_kernel_svc.score(kernel_test, y_test)\n",
    "print(f\"Precomputed kernel classification score: {precomputed_quantum_kernel_score}\")"
   ]
  },
  {
   "cell_type": "code",
   "execution_count": 23,
   "metadata": {},
   "outputs": [
    {
     "name": "stdout",
     "output_type": "stream",
     "text": [
      "Prediction scores: \n",
      "\n",
      "Accuracy:\t1.00\n",
      " ROC_AUC:\t1.00\n"
     ]
    }
   ],
   "source": [
    "y_pred = precomputed_kernel_svc.predict(kernel_test)\n",
    "acc = metrics.balanced_accuracy_score(y_test, y_pred)\n",
    "roc_auc = metrics.roc_auc_score(y_test, y_pred)\n",
    "print(\"Prediction scores: \\n\")\n",
    "print(f\"Accuracy:\\t{acc:.2f}\")\n",
    "print(f\" ROC_AUC:\\t{roc_auc:.2f}\")"
   ]
  }
 ],
 "metadata": {
  "kernelspec": {
   "display_name": "qmlab",
   "language": "python",
   "name": "python3"
  },
  "language_info": {
   "codemirror_mode": {
    "name": "ipython",
    "version": 3
   },
   "file_extension": ".py",
   "mimetype": "text/x-python",
   "name": "python",
   "nbconvert_exporter": "python",
   "pygments_lexer": "ipython3",
   "version": "3.13.0"
  }
 },
 "nbformat": 4,
 "nbformat_minor": 2
}
