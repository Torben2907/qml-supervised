{
 "cells": [
  {
   "cell_type": "markdown",
   "metadata": {},
   "source": [
    "We use [`sympy`](https://www.sympy.org/en/index.html) for deriving or re-checking symbolic derivations\n",
    "of the thesis. \n",
    "\n",
    "Be sure to have sympy version 1.23 or higher installed before running this notebook!\n"
   ]
  },
  {
   "cell_type": "code",
   "execution_count": 4,
   "metadata": {},
   "outputs": [],
   "source": [
    "# uncomment cell below when you don't have sympy!\n",
    "# 👇\n",
    "# !pip install sympy\n",
    "import sympy as smp\n",
    "from sympy import Matrix, Symbol\n",
    "from functools import reduce\n",
    "from typing import Callable"
   ]
  },
  {
   "cell_type": "code",
   "execution_count": 5,
   "metadata": {},
   "outputs": [],
   "source": [
    "x1, x2, x3, x4, x5, x6 = smp.symbols(\"x_1 x_2 x_3 x_4 x_5 x_6\", real=True)"
   ]
  },
  {
   "cell_type": "markdown",
   "metadata": {},
   "source": [
    "---\n",
    "### Angle Embedding"
   ]
  },
  {
   "cell_type": "markdown",
   "metadata": {},
   "source": [
    "\n",
    "Rotation gates\n",
    "\n",
    "For the mathematical definition we refer to subsection \"Quantum Computation\" of the main text."
   ]
  },
  {
   "cell_type": "code",
   "execution_count": 6,
   "metadata": {},
   "outputs": [],
   "source": [
    "def rx(Θ: Symbol) -> Matrix:\n",
    "    \"\"\"Rotation gate around x-axis.\n",
    "\n",
    "    Parameters\n",
    "    ----------\n",
    "    Θ : Symbol\n",
    "        Rotation angle.\n",
    "\n",
    "    Returns\n",
    "    -------\n",
    "    Matrix\n",
    "        Matrix representation of rotation about the x-axis\n",
    "        by an angle Θ.\n",
    "    \"\"\"\n",
    "    return Matrix(\n",
    "        [[smp.cos(Θ / 2), -1j * smp.sin(Θ / 2)], [-1j * smp.sin(Θ / 2), smp.cos(Θ / 2)]]\n",
    "    )\n",
    "\n",
    "\n",
    "def ry(Θ: Symbol) -> Matrix:\n",
    "    \"\"\"Rotation gate around y-axis.\n",
    "\n",
    "    Parameters\n",
    "    ----------\n",
    "    Θ : Symbol\n",
    "        Rotation angle.\n",
    "\n",
    "    Returns\n",
    "    -------\n",
    "    Matrix\n",
    "        Matrix representation of rotation about the y-axis\n",
    "        by an angle Θ.\n",
    "    \"\"\"\n",
    "    return Matrix([[smp.cos(Θ / 2), -smp.sin(Θ / 2)], [smp.sin(Θ / 2), smp.cos(Θ / 2)]])\n",
    "\n",
    "\n",
    "def rz(Θ: Symbol) -> Matrix:\n",
    "    \"\"\"Rotation gate around z-axis.\n",
    "\n",
    "    Parameters\n",
    "    ----------\n",
    "    Θ : Symbol\n",
    "        Rotation angle.\n",
    "\n",
    "    Returns\n",
    "    -------\n",
    "    Matrix\n",
    "        Matrix representation of rotation about the z-axis\n",
    "        by an angle Θ.\n",
    "    \"\"\"\n",
    "    return Matrix([[smp.exp(-1j * Θ / 2), 0], [0, smp.exp(1j * Θ / 2)]])"
   ]
  },
  {
   "cell_type": "markdown",
   "metadata": {},
   "source": [
    "Fidelity (is defined in the quantum machine learning section of the thesis): "
   ]
  },
  {
   "cell_type": "code",
   "execution_count": 7,
   "metadata": {},
   "outputs": [],
   "source": [
    "def dagger(Ψ: Matrix) -> Matrix:\n",
    "    \"\"\"Dagger operation for operators and \n",
    "    state vectors.\n",
    "\n",
    "    Returns\n",
    "    -------\n",
    "    Matrix\n",
    "        Transposed Matrix/Vector, where additionally \n",
    "        each element has been complex-conjugated.\n",
    "    \"\"\"\n",
    "    return Ψ.conjugate().T\n",
    "\n",
    "def fidelity(Ψ: Matrix, ϕ: Matrix) -> float:\n",
    "    return smp.Abs(dagger(Ψ) @ ϕ) ** 2"
   ]
  },
  {
   "cell_type": "markdown",
   "metadata": {},
   "source": [
    "We can easily re-check the expression we obtain for Angle embedding when using \n",
    "$\\sigma = \\left\\{ X, Y \\right\\}$ and a vector $\\bm{x} \\in \\mathcal{X}$ that has only one feature $d =1$:"
   ]
  },
  {
   "cell_type": "code",
   "execution_count": 8,
   "metadata": {},
   "outputs": [],
   "source": [
    "num_qubits = 3\n",
    "psi_init = smp.zeros(2 ** num_qubits, 1)\n",
    "psi_init[0, 0] = 1.0\n",
    "\n",
    "v1 = Matrix([[x1, x2, x3]]).T\n",
    "v2 = Matrix([[x4, x5, x6]]).T\n",
    "\n",
    "def angle(v: Matrix, rotation: Callable) -> Matrix:\n",
    "    v = v.tolist()\n",
    "    flattened_v = [item for row in v for item in row]\n",
    "    return reduce(smp.kronecker_product, (rotation(x_i) for x_i in flattened_v))\n",
    "\n",
    "psi_v1 = angle(v1, rx) @ psi_init\n",
    "psi_v2 = angle(v2, rx) @ psi_init"
   ]
  },
  {
   "cell_type": "code",
   "execution_count": 9,
   "metadata": {},
   "outputs": [
    {
     "data": {
      "text/latex": [
       "$\\displaystyle 1.0 \\cos^{2}{\\left(\\frac{x_{1}}{2} - \\frac{x_{4}}{2} \\right)} \\cos^{2}{\\left(\\frac{x_{2}}{2} - \\frac{x_{5}}{2} \\right)} \\cos^{2}{\\left(\\frac{x_{3}}{2} - \\frac{x_{6}}{2} \\right)}$"
      ],
      "text/plain": [
       "1.0*cos(x_1/2 - x_4/2)**2*cos(x_2/2 - x_5/2)**2*cos(x_3/2 - x_6/2)**2"
      ]
     },
     "execution_count": 9,
     "metadata": {},
     "output_type": "execute_result"
    }
   ],
   "source": [
    "fidelity(psi_v1, psi_v2)[0].simplify()"
   ]
  },
  {
   "cell_type": "code",
   "execution_count": 10,
   "metadata": {},
   "outputs": [
    {
     "data": {
      "text/latex": [
       "$\\displaystyle 1.0 \\cos^{2}{\\left(\\frac{x_{1}}{2} - \\frac{x_{4}}{2} \\right)} \\cos^{2}{\\left(\\frac{x_{2}}{2} - \\frac{x_{5}}{2} \\right)} \\cos^{2}{\\left(\\frac{x_{3}}{2} - \\frac{x_{6}}{2} \\right)}$"
      ],
      "text/plain": [
       "1.0*cos(x_1/2 - x_4/2)**2*cos(x_2/2 - x_5/2)**2*cos(x_3/2 - x_6/2)**2"
      ]
     },
     "execution_count": 10,
     "metadata": {},
     "output_type": "execute_result"
    }
   ],
   "source": [
    "psi_v1 = angle(v1, ry) @ psi_init\n",
    "psi_v2 = angle(v2, ry) @ psi_init\n",
    "\n",
    "fidelity(psi_v1, psi_v2)[0].simplify()"
   ]
  },
  {
   "cell_type": "markdown",
   "metadata": {},
   "source": [
    "---\n",
    "### IQPEmbedding"
   ]
  },
  {
   "cell_type": "markdown",
   "metadata": {},
   "source": [
    "Single hadamard gate and projector (see section for quantum computation for the former, section quantum theory for the latter):"
   ]
  },
  {
   "cell_type": "code",
   "execution_count": 11,
   "metadata": {},
   "outputs": [],
   "source": [
    "def h() -> Matrix:\n",
    "    \"\"\"Hadamard gate\n",
    "\n",
    "    Returns\n",
    "    -------\n",
    "    Matrix\n",
    "        Matrix representation of Hadamard gate.\n",
    "    \"\"\"\n",
    "    return (1 / smp.sqrt(2)) * Matrix([[1.0, 1.0], [1.0, -1.0]])\n",
    "\n",
    "def projector(i: int, j: int, dim: int = 1) -> Matrix:\n",
    "    \"\"\"\n",
    "    Creates projector onto the basis specified by indices i and j \n",
    "    in a Hilbert space of dimension 2^dim.\n",
    "\n",
    "    Parameters\n",
    "    ----------\n",
    "    i : int\n",
    "        Row index for the projector matrix element to set to 1.\n",
    "    j : int\n",
    "        Column index for the projector matrix element to set to 1.\n",
    "    dim : int, optional\n",
    "        Logarithmic dimension of the Hilbert space. The resulting matrix \n",
    "        will be of size 2^dim x 2^dim. Default is 1.\n",
    "\n",
    "    Returns\n",
    "    -------\n",
    "    Matrix\n",
    "        A square matrix of size 2^dim x 2^dim with a 1.0 at position (i, j) \n",
    "        and 0 elsewhere.\n",
    "    \"\"\"\n",
    "    proj = smp.zeros(2 ** dim)\n",
    "    proj[i, j] = 1.0\n",
    "    return proj\n"
   ]
  },
  {
   "cell_type": "code",
   "execution_count": 12,
   "metadata": {},
   "outputs": [],
   "source": [
    "def cz():\n",
    "    return smp.kronecker_product(projector(0, 0), smp.eye(2)) + smp.kronecker_product(\n",
    "        projector(1, 1), 1j * rx(smp.pi)\n",
    "    )"
   ]
  },
  {
   "cell_type": "code",
   "execution_count": 13,
   "metadata": {},
   "outputs": [],
   "source": [
    "v1 = Matrix([[x1, x2]]).T\n",
    "v2 = Matrix([[x3, x4]]).T\n",
    "num_qubits = len(v1)\n",
    "psi_init = smp.zeros(2 ** num_qubits, 1)\n",
    "psi_init[0] = 1.0"
   ]
  },
  {
   "cell_type": "code",
   "execution_count": 14,
   "metadata": {},
   "outputs": [],
   "source": [
    "def u_iqp(v: Matrix) -> Matrix:\n",
    "    h_wall = reduce(smp.kronecker_product, tuple([h()] * len(v)))\n",
    "    rotations = smp.kronecker_product(rz(v[0]), rz(v[1]))\n",
    "    entanglers = cz() @ rotations @ cz()\n",
    "    return entanglers @ rotations @ h_wall "
   ]
  },
  {
   "cell_type": "code",
   "execution_count": 15,
   "metadata": {},
   "outputs": [],
   "source": [
    "psi_v1 = u_iqp(v1) @ u_iqp(v1) @ psi_init\n",
    "psi_v2 = u_iqp(v2) @ u_iqp(v2) @ psi_init"
   ]
  },
  {
   "cell_type": "code",
   "execution_count": 17,
   "metadata": {},
   "outputs": [
    {
     "data": {
      "text/latex": [
       "$\\displaystyle \\left(- 0.0078125 \\left(1 - e^{2.0 i x_{2}}\\right) e^{1.0 i x_{2}} e^{i \\left(46.0 x_{1} + 46.0 x_{2} + 48.0 x_{3} + 42.0 x_{4}\\right)} - 0.00390625 \\left(1 - e^{4.0 i x_{2}}\\right) e^{i \\left(48.0 x_{1} + 46.0 x_{2} + 48.0 x_{3} + 42.0 x_{4}\\right)} - 0.0078125 \\left(1 - e^{2.0 i x_{4}}\\right) e^{1.0 i x_{4}} e^{i \\left(48.0 x_{1} + 42.0 x_{2} + 46.0 x_{3} + 46.0 x_{4}\\right)} - 0.00390625 \\left(1 - e^{4.0 i x_{4}}\\right) e^{i \\left(48.0 x_{1} + 42.0 x_{2} + 48.0 x_{3} + 46.0 x_{4}\\right)} + 0.0078125 \\left(- e^{2.0 i x_{1}} + e^{i \\left(2.0 x_{1} + 4.0 x_{4}\\right)}\\right) e^{i \\left(48.0 x_{1} + 43.0 x_{2} + 48.0 x_{3} + 46.0 x_{4}\\right)} + 0.0078125 \\left(e^{2.0 i x_{1}} - e^{2.0 i \\left(x_{1} + x_{4}\\right)}\\right) e^{i \\left(48.0 x_{1} + 43.0 x_{2} + 44.0 x_{3} + 46.0 x_{4}\\right)} + 0.015625 \\left(- e^{4.0 i x_{1}} + e^{i \\left(4.0 x_{1} + 2.0 x_{4}\\right)}\\right) e^{i \\left(48.0 x_{1} + 44.0 x_{2} + 44.0 x_{3} + 46.0 x_{4}\\right)} + 0.0078125 \\left(e^{4.0 i x_{1}} + 1\\right) e^{i \\left(48.0 x_{1} + 44.0 x_{2} + 46.0 x_{3} + 45.0 x_{4}\\right)} - 0.0078125 \\left(e^{1.0 i x_{2}} + e^{i \\left(3.0 x_{2} + 4.0 x_{3}\\right)}\\right) e^{i \\left(46.0 x_{1} + 46.0 x_{2} + 48.0 x_{3} + 44.0 x_{4}\\right)} + 0.0078125 \\left(- e^{2.0 i x_{3}} + e^{i \\left(4.0 x_{2} + 2.0 x_{3}\\right)}\\right) e^{i \\left(48.0 x_{1} + 46.0 x_{2} + 48.0 x_{3} + 43.0 x_{4}\\right)} + 0.0078125 \\left(e^{2.0 i x_{3}} - e^{2.0 i \\left(x_{2} + x_{3}\\right)}\\right) e^{i \\left(44.0 x_{1} + 46.0 x_{2} + 48.0 x_{3} + 43.0 x_{4}\\right)} + 0.015625 \\left(- e^{4.0 i x_{3}} + e^{i \\left(2.0 x_{2} + 4.0 x_{3}\\right)}\\right) e^{i \\left(44.0 x_{1} + 46.0 x_{2} + 48.0 x_{3} + 44.0 x_{4}\\right)} + 0.0078125 \\left(e^{4.0 i x_{3}} + 1\\right) e^{i \\left(46.0 x_{1} + 45.0 x_{2} + 48.0 x_{3} + 44.0 x_{4}\\right)} - 0.0078125 \\left(e^{1.0 i x_{4}} + e^{i \\left(4.0 x_{1} + 3.0 x_{4}\\right)}\\right) e^{i \\left(48.0 x_{1} + 44.0 x_{2} + 46.0 x_{3} + 46.0 x_{4}\\right)} + 0.0234375 \\left(- e^{i \\left(2.0 x_{1} + 1.0 x_{4}\\right)} + e^{i \\left(2.0 x_{1} + 3.0 x_{4}\\right)}\\right) e^{i \\left(48.0 x_{1} + 43.0 x_{2} + 46.0 x_{3} + 46.0 x_{4}\\right)} + \\left(0.0859375 e^{i \\left(2.0 x_{1} + 1.0 x_{4}\\right)} - 0.0234375 e^{i \\left(2.0 x_{1} + 3.0 x_{4}\\right)}\\right) e^{i \\left(48.0 x_{1} + 45.0 x_{2} + 46.0 x_{3} + 46.0 x_{4}\\right)} + 0.0234375 \\left(- e^{i \\left(1.0 x_{2} + 2.0 x_{3}\\right)} + e^{i \\left(3.0 x_{2} + 2.0 x_{3}\\right)}\\right) e^{i \\left(46.0 x_{1} + 46.0 x_{2} + 48.0 x_{3} + 43.0 x_{4}\\right)} + \\left(0.0859375 e^{i \\left(1.0 x_{2} + 2.0 x_{3}\\right)} - 0.0234375 e^{i \\left(3.0 x_{2} + 2.0 x_{3}\\right)}\\right) e^{i \\left(46.0 x_{1} + 46.0 x_{2} + 48.0 x_{3} + 45.0 x_{4}\\right)} + \\left(0.0234375 e^{2.0 i x_{1}} - 0.0078125 e^{2.0 i \\left(x_{1} + x_{4}\\right)} - 0.0078125 e^{i \\left(2.0 x_{1} + 4.0 x_{4}\\right)} + 0.03125 e^{i \\left(2.0 x_{1} + 2.0 x_{3} + 1.0 x_{4}\\right)}\\right) e^{i \\left(48.0 x_{1} + 45.0 x_{2} + 48.0 x_{3} + 46.0 x_{4}\\right)} + \\left(0.0234375 e^{2.0 i x_{3}} - 0.0078125 e^{2.0 i \\left(x_{2} + x_{3}\\right)} - 0.0078125 e^{i \\left(4.0 x_{2} + 2.0 x_{3}\\right)} + 0.03125 e^{i \\left(2.0 x_{1} + 1.0 x_{2} + 2.0 x_{3}\\right)}\\right) e^{i \\left(48.0 x_{1} + 46.0 x_{2} + 48.0 x_{3} + 45.0 x_{4}\\right)} + \\left(- 0.0078125 e^{4.0 i x_{1}} + 0.015625 e^{2.0 i x_{2}} - 0.0078125 e^{i \\left(2.0 x_{1} + 1.0 x_{2}\\right)} + 0.0078125 e^{i \\left(2.0 x_{1} + 3.0 x_{2}\\right)} - 0.0078125 e^{i \\left(4.0 x_{1} + 2.0 x_{2}\\right)}\\right) e^{i \\left(48.0 x_{1} + 46.0 x_{2} + 46.0 x_{3} + 43.0 x_{4}\\right)} + \\left(- 0.0078125 e^{4.0 i x_{3}} + 0.015625 e^{2.0 i x_{4}} - 0.0078125 e^{i \\left(2.0 x_{3} + 1.0 x_{4}\\right)} + 0.0078125 e^{i \\left(2.0 x_{3} + 3.0 x_{4}\\right)} - 0.0078125 e^{i \\left(4.0 x_{3} + 2.0 x_{4}\\right)}\\right) e^{i \\left(46.0 x_{1} + 43.0 x_{2} + 48.0 x_{3} + 46.0 x_{4}\\right)} + \\left(- 0.015625 e^{4.0 i x_{1}} + 0.0546875 e^{2.0 i x_{2}} - 0.0234375 e^{i \\left(2.0 x_{1} + 1.0 x_{2}\\right)} + 0.015625 e^{i \\left(2.0 x_{1} + 3.0 x_{2}\\right)} - 0.015625 e^{i \\left(4.0 x_{1} + 2.0 x_{2}\\right)} + 0.03125\\right) e^{i \\left(48.0 x_{1} + 46.0 x_{2} + 48.0 x_{3} + 44.0 x_{4}\\right)} + \\left(0.0078125 e^{4.0 i x_{1}} - 0.0234375 e^{2.0 i x_{2}} + 0.0703125 e^{i \\left(2.0 x_{1} + 1.0 x_{2}\\right)} - 0.0078125 e^{i \\left(2.0 x_{1} + 3.0 x_{2}\\right)} + 0.015625 e^{i \\left(4.0 x_{1} + 2.0 x_{2}\\right)} - 0.015625\\right) e^{i \\left(48.0 x_{1} + 46.0 x_{2} + 46.0 x_{3} + 45.0 x_{4}\\right)} + \\left(0.015625 e^{4.0 i x_{1}} - 0.015625 e^{2.0 i x_{2}} + 0.015625 e^{i \\left(2.0 x_{1} + 1.0 x_{2}\\right)} - 0.0078125 e^{i \\left(2.0 x_{1} + 3.0 x_{2}\\right)} + 0.015625 e^{i \\left(4.0 x_{1} + 2.0 x_{2}\\right)} - 0.015625\\right) e^{i \\left(48.0 x_{1} + 46.0 x_{2} + 44.0 x_{3} + 44.0 x_{4}\\right)} + \\left(0.0234375 e^{1.0 i x_{2}} - 0.0078125 e^{3.0 i x_{2}} - 0.0078125 e^{i \\left(1.0 x_{2} + 4.0 x_{3}\\right)} + 0.0078125 e^{i \\left(1.0 x_{2} + 2.0 x_{4}\\right)} + 0.0078125 e^{i \\left(3.0 x_{2} + 4.0 x_{3}\\right)} - 0.0078125 e^{i \\left(1.0 x_{2} + 4.0 x_{3} + 2.0 x_{4}\\right)}\\right) e^{i \\left(46.0 x_{1} + 46.0 x_{2} + 48.0 x_{3} + 46.0 x_{4}\\right)} + \\left(- 0.015625 e^{4.0 i x_{3}} + 0.0546875 e^{2.0 i x_{4}} - 0.0234375 e^{i \\left(2.0 x_{3} + 1.0 x_{4}\\right)} + 0.015625 e^{i \\left(2.0 x_{3} + 3.0 x_{4}\\right)} - 0.015625 e^{i \\left(4.0 x_{3} + 2.0 x_{4}\\right)} + 0.03125\\right) e^{i \\left(48.0 x_{1} + 44.0 x_{2} + 48.0 x_{3} + 46.0 x_{4}\\right)} + \\left(0.0078125 e^{4.0 i x_{3}} - 0.0234375 e^{2.0 i x_{4}} + 0.0703125 e^{i \\left(2.0 x_{3} + 1.0 x_{4}\\right)} - 0.0078125 e^{i \\left(2.0 x_{3} + 3.0 x_{4}\\right)} + 0.015625 e^{i \\left(4.0 x_{3} + 2.0 x_{4}\\right)} - 0.015625\\right) e^{i \\left(46.0 x_{1} + 45.0 x_{2} + 48.0 x_{3} + 46.0 x_{4}\\right)} + \\left(0.015625 e^{4.0 i x_{3}} - 0.015625 e^{2.0 i x_{4}} + 0.015625 e^{i \\left(2.0 x_{3} + 1.0 x_{4}\\right)} - 0.0078125 e^{i \\left(2.0 x_{3} + 3.0 x_{4}\\right)} + 0.015625 e^{i \\left(4.0 x_{3} + 2.0 x_{4}\\right)} - 0.015625\\right) e^{i \\left(44.0 x_{1} + 44.0 x_{2} + 48.0 x_{3} + 46.0 x_{4}\\right)} + \\left(0.0234375 e^{1.0 i x_{4}} - 0.0078125 e^{3.0 i x_{4}} - 0.0078125 e^{i \\left(4.0 x_{1} + 1.0 x_{4}\\right)} + 0.0078125 e^{i \\left(4.0 x_{1} + 3.0 x_{4}\\right)} + 0.0078125 e^{i \\left(2.0 x_{2} + 1.0 x_{4}\\right)} - 0.0078125 e^{i \\left(4.0 x_{1} + 2.0 x_{2} + 1.0 x_{4}\\right)}\\right) e^{i \\left(48.0 x_{1} + 46.0 x_{2} + 46.0 x_{3} + 46.0 x_{4}\\right)} + \\left(0.03125 e^{4.0 i x_{1}} - 0.015625 e^{2.0 i x_{2}} + 0.0078125 e^{i \\left(2.0 x_{1} + 1.0 x_{2}\\right)} - 0.0078125 e^{i \\left(2.0 x_{1} + 3.0 x_{2}\\right)} + 0.015625 e^{i \\left(4.0 x_{1} + 2.0 x_{2}\\right)} - 0.015625 e^{i \\left(4.0 x_{1} + 2.0 x_{4}\\right)} + 0.0078125 e^{i \\left(2.0 x_{1} + 1.0 x_{2} + 2.0 x_{4}\\right)} - 0.015625\\right) e^{i \\left(48.0 x_{1} + 46.0 x_{2} + 44.0 x_{3} + 46.0 x_{4}\\right)} + \\left(0.03125 e^{4.0 i x_{3}} - 0.015625 e^{2.0 i x_{4}} - 0.015625 e^{i \\left(2.0 x_{2} + 4.0 x_{3}\\right)} + 0.0078125 e^{i \\left(2.0 x_{3} + 1.0 x_{4}\\right)} - 0.0078125 e^{i \\left(2.0 x_{3} + 3.0 x_{4}\\right)} + 0.015625 e^{i \\left(4.0 x_{3} + 2.0 x_{4}\\right)} + 0.0078125 e^{i \\left(2.0 x_{2} + 2.0 x_{3} + 1.0 x_{4}\\right)} - 0.015625\\right) e^{i \\left(44.0 x_{1} + 46.0 x_{2} + 48.0 x_{3} + 46.0 x_{4}\\right)} + \\left(- 0.015625 e^{4.0 i x_{1}} + 0.03125 e^{2.0 i x_{2}} - 0.00390625 e^{4.0 i x_{2}} - 0.015625 e^{4.0 i x_{3}} + 0.03125 e^{2.0 i x_{4}} - 0.00390625 e^{4.0 i x_{4}} - 0.015625 e^{i \\left(2.0 x_{1} + 1.0 x_{2}\\right)} - 0.015625 e^{i \\left(4.0 x_{1} + 2.0 x_{2}\\right)} + 0.0078125 e^{2.0 i \\left(x_{2} + x_{4}\\right)} - 0.015625 e^{i \\left(2.0 x_{3} + 1.0 x_{4}\\right)} - 0.015625 e^{i \\left(4.0 x_{3} + 2.0 x_{4}\\right)} + 0.0078125 e^{i \\left(2.0 x_{1} + 1.0 x_{2} + 2.0 x_{4}\\right)} + 0.0078125 e^{i \\left(2.0 x_{2} + 2.0 x_{3} + 1.0 x_{4}\\right)} + 0.03125 e^{i \\left(2.0 x_{1} + 1.0 x_{2} + 2.0 x_{3} + 1.0 x_{4}\\right)} + 0.3828125\\right) e^{i \\left(48.0 x_{1} + 46.0 x_{2} + 48.0 x_{3} + 46.0 x_{4}\\right)} - 0.0078125 e^{i \\left(44.0 x_{1} + 44.0 x_{2} + 50.0 x_{3} + 45.0 x_{4}\\right)} - 0.0078125 e^{i \\left(44.0 x_{1} + 46.0 x_{2} + 50.0 x_{3} + 45.0 x_{4}\\right)} + 0.03125 e^{i \\left(46.0 x_{1} + 45.0 x_{2} + 46.0 x_{3} + 45.0 x_{4}\\right)} + 0.03125 e^{i \\left(46.0 x_{1} + 45.0 x_{2} + 46.0 x_{3} + 47.0 x_{4}\\right)} + 0.03125 e^{i \\left(46.0 x_{1} + 47.0 x_{2} + 46.0 x_{3} + 45.0 x_{4}\\right)} + 0.03125 e^{i \\left(46.0 x_{1} + 47.0 x_{2} + 46.0 x_{3} + 47.0 x_{4}\\right)} + 0.0078125 e^{i \\left(48.0 x_{1} + 44.0 x_{2} + 48.0 x_{3} + 44.0 x_{4}\\right)} + 0.0078125 e^{i \\left(48.0 x_{1} + 44.0 x_{2} + 50.0 x_{3} + 45.0 x_{4}\\right)} - 0.0078125 e^{i \\left(50.0 x_{1} + 45.0 x_{2} + 44.0 x_{3} + 44.0 x_{4}\\right)} - 0.0078125 e^{i \\left(50.0 x_{1} + 45.0 x_{2} + 44.0 x_{3} + 46.0 x_{4}\\right)} + 0.0078125 e^{i \\left(50.0 x_{1} + 45.0 x_{2} + 48.0 x_{3} + 44.0 x_{4}\\right)} + 0.03125 e^{i \\left(50.0 x_{1} + 45.0 x_{2} + 50.0 x_{3} + 45.0 x_{4}\\right)}\\right) e^{- i \\left(48.0 x_{1} + 46.0 x_{2} + 48.0 x_{3} + 46.0 x_{4}\\right)}$"
      ],
      "text/plain": [
       "(-0.0078125*(1 - exp(2.0*I*x_2))*exp(1.0*I*x_2)*exp(I*(46.0*x_1 + 46.0*x_2 + 48.0*x_3 + 42.0*x_4)) - 0.00390625*(1 - exp(4.0*I*x_2))*exp(I*(48.0*x_1 + 46.0*x_2 + 48.0*x_3 + 42.0*x_4)) - 0.0078125*(1 - exp(2.0*I*x_4))*exp(1.0*I*x_4)*exp(I*(48.0*x_1 + 42.0*x_2 + 46.0*x_3 + 46.0*x_4)) - 0.00390625*(1 - exp(4.0*I*x_4))*exp(I*(48.0*x_1 + 42.0*x_2 + 48.0*x_3 + 46.0*x_4)) + 0.0078125*(-exp(2.0*I*x_1) + exp(I*(2.0*x_1 + 4.0*x_4)))*exp(I*(48.0*x_1 + 43.0*x_2 + 48.0*x_3 + 46.0*x_4)) + 0.0078125*(exp(2.0*I*x_1) - exp(2.0*I*(x_1 + x_4)))*exp(I*(48.0*x_1 + 43.0*x_2 + 44.0*x_3 + 46.0*x_4)) + 0.015625*(-exp(4.0*I*x_1) + exp(I*(4.0*x_1 + 2.0*x_4)))*exp(I*(48.0*x_1 + 44.0*x_2 + 44.0*x_3 + 46.0*x_4)) + 0.0078125*(exp(4.0*I*x_1) + 1)*exp(I*(48.0*x_1 + 44.0*x_2 + 46.0*x_3 + 45.0*x_4)) - 0.0078125*(exp(1.0*I*x_2) + exp(I*(3.0*x_2 + 4.0*x_3)))*exp(I*(46.0*x_1 + 46.0*x_2 + 48.0*x_3 + 44.0*x_4)) + 0.0078125*(-exp(2.0*I*x_3) + exp(I*(4.0*x_2 + 2.0*x_3)))*exp(I*(48.0*x_1 + 46.0*x_2 + 48.0*x_3 + 43.0*x_4)) + 0.0078125*(exp(2.0*I*x_3) - exp(2.0*I*(x_2 + x_3)))*exp(I*(44.0*x_1 + 46.0*x_2 + 48.0*x_3 + 43.0*x_4)) + 0.015625*(-exp(4.0*I*x_3) + exp(I*(2.0*x_2 + 4.0*x_3)))*exp(I*(44.0*x_1 + 46.0*x_2 + 48.0*x_3 + 44.0*x_4)) + 0.0078125*(exp(4.0*I*x_3) + 1)*exp(I*(46.0*x_1 + 45.0*x_2 + 48.0*x_3 + 44.0*x_4)) - 0.0078125*(exp(1.0*I*x_4) + exp(I*(4.0*x_1 + 3.0*x_4)))*exp(I*(48.0*x_1 + 44.0*x_2 + 46.0*x_3 + 46.0*x_4)) + 0.0234375*(-exp(I*(2.0*x_1 + 1.0*x_4)) + exp(I*(2.0*x_1 + 3.0*x_4)))*exp(I*(48.0*x_1 + 43.0*x_2 + 46.0*x_3 + 46.0*x_4)) + (0.0859375*exp(I*(2.0*x_1 + 1.0*x_4)) - 0.0234375*exp(I*(2.0*x_1 + 3.0*x_4)))*exp(I*(48.0*x_1 + 45.0*x_2 + 46.0*x_3 + 46.0*x_4)) + 0.0234375*(-exp(I*(1.0*x_2 + 2.0*x_3)) + exp(I*(3.0*x_2 + 2.0*x_3)))*exp(I*(46.0*x_1 + 46.0*x_2 + 48.0*x_3 + 43.0*x_4)) + (0.0859375*exp(I*(1.0*x_2 + 2.0*x_3)) - 0.0234375*exp(I*(3.0*x_2 + 2.0*x_3)))*exp(I*(46.0*x_1 + 46.0*x_2 + 48.0*x_3 + 45.0*x_4)) + (0.0234375*exp(2.0*I*x_1) - 0.0078125*exp(2.0*I*(x_1 + x_4)) - 0.0078125*exp(I*(2.0*x_1 + 4.0*x_4)) + 0.03125*exp(I*(2.0*x_1 + 2.0*x_3 + 1.0*x_4)))*exp(I*(48.0*x_1 + 45.0*x_2 + 48.0*x_3 + 46.0*x_4)) + (0.0234375*exp(2.0*I*x_3) - 0.0078125*exp(2.0*I*(x_2 + x_3)) - 0.0078125*exp(I*(4.0*x_2 + 2.0*x_3)) + 0.03125*exp(I*(2.0*x_1 + 1.0*x_2 + 2.0*x_3)))*exp(I*(48.0*x_1 + 46.0*x_2 + 48.0*x_3 + 45.0*x_4)) + (-0.0078125*exp(4.0*I*x_1) + 0.015625*exp(2.0*I*x_2) - 0.0078125*exp(I*(2.0*x_1 + 1.0*x_2)) + 0.0078125*exp(I*(2.0*x_1 + 3.0*x_2)) - 0.0078125*exp(I*(4.0*x_1 + 2.0*x_2)))*exp(I*(48.0*x_1 + 46.0*x_2 + 46.0*x_3 + 43.0*x_4)) + (-0.0078125*exp(4.0*I*x_3) + 0.015625*exp(2.0*I*x_4) - 0.0078125*exp(I*(2.0*x_3 + 1.0*x_4)) + 0.0078125*exp(I*(2.0*x_3 + 3.0*x_4)) - 0.0078125*exp(I*(4.0*x_3 + 2.0*x_4)))*exp(I*(46.0*x_1 + 43.0*x_2 + 48.0*x_3 + 46.0*x_4)) + (-0.015625*exp(4.0*I*x_1) + 0.0546875*exp(2.0*I*x_2) - 0.0234375*exp(I*(2.0*x_1 + 1.0*x_2)) + 0.015625*exp(I*(2.0*x_1 + 3.0*x_2)) - 0.015625*exp(I*(4.0*x_1 + 2.0*x_2)) + 0.03125)*exp(I*(48.0*x_1 + 46.0*x_2 + 48.0*x_3 + 44.0*x_4)) + (0.0078125*exp(4.0*I*x_1) - 0.0234375*exp(2.0*I*x_2) + 0.0703125*exp(I*(2.0*x_1 + 1.0*x_2)) - 0.0078125*exp(I*(2.0*x_1 + 3.0*x_2)) + 0.015625*exp(I*(4.0*x_1 + 2.0*x_2)) - 0.015625)*exp(I*(48.0*x_1 + 46.0*x_2 + 46.0*x_3 + 45.0*x_4)) + (0.015625*exp(4.0*I*x_1) - 0.015625*exp(2.0*I*x_2) + 0.015625*exp(I*(2.0*x_1 + 1.0*x_2)) - 0.0078125*exp(I*(2.0*x_1 + 3.0*x_2)) + 0.015625*exp(I*(4.0*x_1 + 2.0*x_2)) - 0.015625)*exp(I*(48.0*x_1 + 46.0*x_2 + 44.0*x_3 + 44.0*x_4)) + (0.0234375*exp(1.0*I*x_2) - 0.0078125*exp(3.0*I*x_2) - 0.0078125*exp(I*(1.0*x_2 + 4.0*x_3)) + 0.0078125*exp(I*(1.0*x_2 + 2.0*x_4)) + 0.0078125*exp(I*(3.0*x_2 + 4.0*x_3)) - 0.0078125*exp(I*(1.0*x_2 + 4.0*x_3 + 2.0*x_4)))*exp(I*(46.0*x_1 + 46.0*x_2 + 48.0*x_3 + 46.0*x_4)) + (-0.015625*exp(4.0*I*x_3) + 0.0546875*exp(2.0*I*x_4) - 0.0234375*exp(I*(2.0*x_3 + 1.0*x_4)) + 0.015625*exp(I*(2.0*x_3 + 3.0*x_4)) - 0.015625*exp(I*(4.0*x_3 + 2.0*x_4)) + 0.03125)*exp(I*(48.0*x_1 + 44.0*x_2 + 48.0*x_3 + 46.0*x_4)) + (0.0078125*exp(4.0*I*x_3) - 0.0234375*exp(2.0*I*x_4) + 0.0703125*exp(I*(2.0*x_3 + 1.0*x_4)) - 0.0078125*exp(I*(2.0*x_3 + 3.0*x_4)) + 0.015625*exp(I*(4.0*x_3 + 2.0*x_4)) - 0.015625)*exp(I*(46.0*x_1 + 45.0*x_2 + 48.0*x_3 + 46.0*x_4)) + (0.015625*exp(4.0*I*x_3) - 0.015625*exp(2.0*I*x_4) + 0.015625*exp(I*(2.0*x_3 + 1.0*x_4)) - 0.0078125*exp(I*(2.0*x_3 + 3.0*x_4)) + 0.015625*exp(I*(4.0*x_3 + 2.0*x_4)) - 0.015625)*exp(I*(44.0*x_1 + 44.0*x_2 + 48.0*x_3 + 46.0*x_4)) + (0.0234375*exp(1.0*I*x_4) - 0.0078125*exp(3.0*I*x_4) - 0.0078125*exp(I*(4.0*x_1 + 1.0*x_4)) + 0.0078125*exp(I*(4.0*x_1 + 3.0*x_4)) + 0.0078125*exp(I*(2.0*x_2 + 1.0*x_4)) - 0.0078125*exp(I*(4.0*x_1 + 2.0*x_2 + 1.0*x_4)))*exp(I*(48.0*x_1 + 46.0*x_2 + 46.0*x_3 + 46.0*x_4)) + (0.03125*exp(4.0*I*x_1) - 0.015625*exp(2.0*I*x_2) + 0.0078125*exp(I*(2.0*x_1 + 1.0*x_2)) - 0.0078125*exp(I*(2.0*x_1 + 3.0*x_2)) + 0.015625*exp(I*(4.0*x_1 + 2.0*x_2)) - 0.015625*exp(I*(4.0*x_1 + 2.0*x_4)) + 0.0078125*exp(I*(2.0*x_1 + 1.0*x_2 + 2.0*x_4)) - 0.015625)*exp(I*(48.0*x_1 + 46.0*x_2 + 44.0*x_3 + 46.0*x_4)) + (0.03125*exp(4.0*I*x_3) - 0.015625*exp(2.0*I*x_4) - 0.015625*exp(I*(2.0*x_2 + 4.0*x_3)) + 0.0078125*exp(I*(2.0*x_3 + 1.0*x_4)) - 0.0078125*exp(I*(2.0*x_3 + 3.0*x_4)) + 0.015625*exp(I*(4.0*x_3 + 2.0*x_4)) + 0.0078125*exp(I*(2.0*x_2 + 2.0*x_3 + 1.0*x_4)) - 0.015625)*exp(I*(44.0*x_1 + 46.0*x_2 + 48.0*x_3 + 46.0*x_4)) + (-0.015625*exp(4.0*I*x_1) + 0.03125*exp(2.0*I*x_2) - 0.00390625*exp(4.0*I*x_2) - 0.015625*exp(4.0*I*x_3) + 0.03125*exp(2.0*I*x_4) - 0.00390625*exp(4.0*I*x_4) - 0.015625*exp(I*(2.0*x_1 + 1.0*x_2)) - 0.015625*exp(I*(4.0*x_1 + 2.0*x_2)) + 0.0078125*exp(2.0*I*(x_2 + x_4)) - 0.015625*exp(I*(2.0*x_3 + 1.0*x_4)) - 0.015625*exp(I*(4.0*x_3 + 2.0*x_4)) + 0.0078125*exp(I*(2.0*x_1 + 1.0*x_2 + 2.0*x_4)) + 0.0078125*exp(I*(2.0*x_2 + 2.0*x_3 + 1.0*x_4)) + 0.03125*exp(I*(2.0*x_1 + 1.0*x_2 + 2.0*x_3 + 1.0*x_4)) + 0.3828125)*exp(I*(48.0*x_1 + 46.0*x_2 + 48.0*x_3 + 46.0*x_4)) - 0.0078125*exp(I*(44.0*x_1 + 44.0*x_2 + 50.0*x_3 + 45.0*x_4)) - 0.0078125*exp(I*(44.0*x_1 + 46.0*x_2 + 50.0*x_3 + 45.0*x_4)) + 0.03125*exp(I*(46.0*x_1 + 45.0*x_2 + 46.0*x_3 + 45.0*x_4)) + 0.03125*exp(I*(46.0*x_1 + 45.0*x_2 + 46.0*x_3 + 47.0*x_4)) + 0.03125*exp(I*(46.0*x_1 + 47.0*x_2 + 46.0*x_3 + 45.0*x_4)) + 0.03125*exp(I*(46.0*x_1 + 47.0*x_2 + 46.0*x_3 + 47.0*x_4)) + 0.0078125*exp(I*(48.0*x_1 + 44.0*x_2 + 48.0*x_3 + 44.0*x_4)) + 0.0078125*exp(I*(48.0*x_1 + 44.0*x_2 + 50.0*x_3 + 45.0*x_4)) - 0.0078125*exp(I*(50.0*x_1 + 45.0*x_2 + 44.0*x_3 + 44.0*x_4)) - 0.0078125*exp(I*(50.0*x_1 + 45.0*x_2 + 44.0*x_3 + 46.0*x_4)) + 0.0078125*exp(I*(50.0*x_1 + 45.0*x_2 + 48.0*x_3 + 44.0*x_4)) + 0.03125*exp(I*(50.0*x_1 + 45.0*x_2 + 50.0*x_3 + 45.0*x_4)))*exp(-I*(48.0*x_1 + 46.0*x_2 + 48.0*x_3 + 46.0*x_4))"
      ]
     },
     "execution_count": 17,
     "metadata": {},
     "output_type": "execute_result"
    }
   ],
   "source": [
    "fidelity(psi_v1, psi_v2)[0].simplify()"
   ]
  }
 ],
 "metadata": {
  "kernelspec": {
   "display_name": "qmlab",
   "language": "python",
   "name": "python3"
  },
  "language_info": {
   "codemirror_mode": {
    "name": "ipython",
    "version": 3
   },
   "file_extension": ".py",
   "mimetype": "text/x-python",
   "name": "python",
   "nbconvert_exporter": "python",
   "pygments_lexer": "ipython3",
   "version": "3.13.0"
  }
 },
 "nbformat": 4,
 "nbformat_minor": 2
}
