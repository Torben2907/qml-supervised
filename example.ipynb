{
 "cells": [
  {
   "cell_type": "code",
   "execution_count": 1,
   "metadata": {},
   "outputs": [
    {
     "ename": "NameError",
     "evalue": "name 'QubitStateVector' is not defined",
     "output_type": "error",
     "traceback": [
      "\u001b[0;31m---------------------------------------------------------------------------\u001b[0m",
      "\u001b[0;31mNameError\u001b[0m                                 Traceback (most recent call last)",
      "Cell \u001b[0;32mIn[1], line 3\u001b[0m\n\u001b[1;32m      1\u001b[0m \u001b[38;5;28;01mimport\u001b[39;00m \u001b[38;5;21;01msys\u001b[39;00m \n\u001b[1;32m      2\u001b[0m sys\u001b[38;5;241m.\u001b[39mpath\u001b[38;5;241m.\u001b[39mappend(\u001b[38;5;124m\"\u001b[39m\u001b[38;5;124m./python\u001b[39m\u001b[38;5;124m\"\u001b[39m)\n\u001b[0;32m----> 3\u001b[0m \u001b[38;5;28;01mfrom\u001b[39;00m \u001b[38;5;21;01mmodels\u001b[39;00m\u001b[38;5;21;01m.\u001b[39;00m\u001b[38;5;21;01mqsvc\u001b[39;00m \u001b[38;5;28;01mimport\u001b[39;00m QSVC\n\u001b[1;32m      4\u001b[0m \u001b[38;5;28;01mimport\u001b[39;00m \u001b[38;5;21;01mpennylane\u001b[39;00m \u001b[38;5;28;01mas\u001b[39;00m \u001b[38;5;21;01mqml\u001b[39;00m\n\u001b[1;32m      5\u001b[0m \u001b[38;5;28;01mfrom\u001b[39;00m \u001b[38;5;21;01mmodels\u001b[39;00m\u001b[38;5;21;01m.\u001b[39;00m\u001b[38;5;21;01mquantum_kernel\u001b[39;00m \u001b[38;5;28;01mimport\u001b[39;00m FidelityStateVectorKernel\n",
      "File \u001b[0;32m~/ST24/bachelor-thesis/qml-supervised/python/models/qsvc.py:3\u001b[0m\n\u001b[1;32m      1\u001b[0m \u001b[38;5;28;01mfrom\u001b[39;00m \u001b[38;5;21;01mtyping\u001b[39;00m \u001b[38;5;28;01mimport\u001b[39;00m Optional\n\u001b[1;32m      2\u001b[0m \u001b[38;5;28;01mfrom\u001b[39;00m \u001b[38;5;21;01msklearn\u001b[39;00m\u001b[38;5;21;01m.\u001b[39;00m\u001b[38;5;21;01msvm\u001b[39;00m \u001b[38;5;28;01mimport\u001b[39;00m SVC\n\u001b[0;32m----> 3\u001b[0m \u001b[38;5;28;01mfrom\u001b[39;00m \u001b[38;5;21;01m.\u001b[39;00m\u001b[38;5;21;01mquantum_kernel\u001b[39;00m \u001b[38;5;28;01mimport\u001b[39;00m QuantumKernel, FidelityStateVectorKernel\n\u001b[1;32m      6\u001b[0m \u001b[38;5;28;01mclass\u001b[39;00m \u001b[38;5;21;01mQSVC\u001b[39;00m(SVC):\n\u001b[1;32m      7\u001b[0m     \u001b[38;5;28;01mdef\u001b[39;00m \u001b[38;5;21m__init__\u001b[39m(\u001b[38;5;28mself\u001b[39m, \u001b[38;5;241m*\u001b[39m, quantum_kernel: Optional[QuantumKernel] \u001b[38;5;241m=\u001b[39m \u001b[38;5;28;01mNone\u001b[39;00m, \u001b[38;5;241m*\u001b[39m\u001b[38;5;241m*\u001b[39mkwargs):\n",
      "File \u001b[0;32m~/ST24/bachelor-thesis/qml-supervised/python/models/quantum_kernel.py:48\u001b[0m\n\u001b[1;32m     44\u001b[0m     \u001b[38;5;28;01mdef\u001b[39;00m \u001b[38;5;21m_validate_inputs\u001b[39m(\u001b[38;5;28mself\u001b[39m, psi_vec: np\u001b[38;5;241m.\u001b[39mndarray, phi_vec: np\u001b[38;5;241m.\u001b[39mndarray):\n\u001b[1;32m     45\u001b[0m         \u001b[38;5;28;01mpass\u001b[39;00m\n\u001b[0;32m---> 48\u001b[0m \u001b[38;5;28;01mclass\u001b[39;00m \u001b[38;5;21;01mFidelityStateVectorKernel\u001b[39;00m(QuantumKernel):\n\u001b[1;32m     49\u001b[0m     \u001b[38;5;28;01mdef\u001b[39;00m \u001b[38;5;21m__init__\u001b[39m(\n\u001b[1;32m     50\u001b[0m         \u001b[38;5;28mself\u001b[39m,\n\u001b[1;32m     51\u001b[0m         \u001b[38;5;241m*\u001b[39m,\n\u001b[0;32m   (...)\u001b[0m\n\u001b[1;32m     57\u001b[0m         num_repeats: \u001b[38;5;28mint\u001b[39m,\n\u001b[1;32m     58\u001b[0m     ):\n\u001b[1;32m     59\u001b[0m         \u001b[38;5;28msuper\u001b[39m()\u001b[38;5;241m.\u001b[39m\u001b[38;5;21m__init__\u001b[39m(feature_map\u001b[38;5;241m=\u001b[39mfeature_map)\n",
      "File \u001b[0;32m~/ST24/bachelor-thesis/qml-supervised/python/models/quantum_kernel.py:53\u001b[0m, in \u001b[0;36mFidelityStateVectorKernel\u001b[0;34m()\u001b[0m\n\u001b[1;32m     48\u001b[0m \u001b[38;5;28;01mclass\u001b[39;00m \u001b[38;5;21;01mFidelityStateVectorKernel\u001b[39;00m(QuantumKernel):\n\u001b[1;32m     49\u001b[0m     \u001b[38;5;28;01mdef\u001b[39;00m \u001b[38;5;21m__init__\u001b[39m(\n\u001b[1;32m     50\u001b[0m         \u001b[38;5;28mself\u001b[39m,\n\u001b[1;32m     51\u001b[0m         \u001b[38;5;241m*\u001b[39m,\n\u001b[1;32m     52\u001b[0m         feature_map: Operation,\n\u001b[0;32m---> 53\u001b[0m         state_vector: QubitStateVector,\n\u001b[1;32m     54\u001b[0m         shots: \u001b[38;5;28mint\u001b[39m,\n\u001b[1;32m     55\u001b[0m         quantum_device: \u001b[38;5;28mstr\u001b[39m \u001b[38;5;241m=\u001b[39m \u001b[38;5;124m\"\u001b[39m\u001b[38;5;124mdefault.qubit\u001b[39m\u001b[38;5;124m\"\u001b[39m,\n\u001b[1;32m     56\u001b[0m         num_qubits: \u001b[38;5;28mint\u001b[39m,\n\u001b[1;32m     57\u001b[0m         num_repeats: \u001b[38;5;28mint\u001b[39m,\n\u001b[1;32m     58\u001b[0m     ):\n\u001b[1;32m     59\u001b[0m         \u001b[38;5;28msuper\u001b[39m()\u001b[38;5;241m.\u001b[39m\u001b[38;5;21m__init__\u001b[39m(feature_map\u001b[38;5;241m=\u001b[39mfeature_map)\n\u001b[1;32m     60\u001b[0m         \u001b[38;5;28mself\u001b[39m\u001b[38;5;241m.\u001b[39mstate_vector \u001b[38;5;241m=\u001b[39m state_vector\n",
      "\u001b[0;31mNameError\u001b[0m: name 'QubitStateVector' is not defined"
     ]
    }
   ],
   "source": [
    "import sys \n",
    "sys.path.append(\"./python\")\n",
    "from models.qsvc import QSVC\n",
    "import pennylane as qml\n",
    "from models.quantum_kernel import FidelityStateVectorKernel\n",
    "\n",
    "ad_hoc_kernel = FidelityStateVectorKernel(feature_map=qml.IQPEmbedding)"
   ]
  },
  {
   "cell_type": "code",
   "execution_count": null,
   "metadata": {},
   "outputs": [],
   "source": []
  }
 ],
 "metadata": {
  "kernelspec": {
   "display_name": "exps",
   "language": "python",
   "name": "python3"
  },
  "language_info": {
   "codemirror_mode": {
    "name": "ipython",
    "version": 3
   },
   "file_extension": ".py",
   "mimetype": "text/x-python",
   "name": "python",
   "nbconvert_exporter": "python",
   "pygments_lexer": "ipython3",
   "version": "3.12.5"
  }
 },
 "nbformat": 4,
 "nbformat_minor": 2
}
